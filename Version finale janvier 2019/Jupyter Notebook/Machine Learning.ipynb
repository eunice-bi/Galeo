{
 "cells": [
  {
   "cell_type": "code",
   "execution_count": 1,
   "metadata": {},
   "outputs": [],
   "source": [
    "from sklearn.svm import SVR\n",
    "from sklearn.linear_model import LinearRegression\n",
    "from sklearn.tree import DecisionTreeRegressor\n",
    "from sklearn.model_selection import train_test_split\n",
    "import pandas as pd\n",
    "import pickle\n",
    "import sklearn\n",
    "import numpy as np\n",
    "from sklearn import preprocessing\n",
    "from sklearn.decomposition import PCA\n",
    "from sklearn.model_selection import cross_val_score\n",
    "from scipy import stats\n",
    "import matplotlib.pyplot as plt\n",
    "import warnings\n",
    "import copy\n",
    "warnings.filterwarnings('ignore')"
   ]
  },
  {
   "cell_type": "code",
   "execution_count": 2,
   "metadata": {},
   "outputs": [],
   "source": [
    "#There a tree functions, one by Machine Learning algorithm. "
   ]
  },
  {
   "cell_type": "code",
   "execution_count": 3,
   "metadata": {},
   "outputs": [],
   "source": [
    "#ML model by Support Vector Regression\n",
    "def SVR_ML(X,y):\n",
    "    X_train, X_test, y_train, y_test = train_test_split(X, y, test_size=0.3, shuffle=True,random_state=42)\n",
    "    svr = SVR(kernel='linear', C=10.0, epsilon=0.7)\n",
    "    svr.fit(X_train, y_train) \n",
    "    predictions = svr.predict(X_test)\n",
    "    scores = cross_val_score(svr,X_train, y_train, cv=5)\n",
    "    print(\"Scores SVR:\")\n",
    "    print(scores)\n",
    "    plt.scatter(y_test, predictions)\n",
    "    plt.xlabel(\"True Values\")\n",
    "    plt.ylabel(\"Predictions\")\n",
    "    return svr, scores"
   ]
  },
  {
   "cell_type": "code",
   "execution_count": 4,
   "metadata": {},
   "outputs": [],
   "source": [
    "#ML model by Linear Regression\n",
    "def Linear_Regression(X,y):\n",
    "    X_train, X_test, y_train, y_test = train_test_split(X, y, test_size=0.3, shuffle=True,random_state=42)\n",
    "    lreg = LinearRegression().fit(X_train, y_train)\n",
    "    lreg.score(X_test, y_test)\n",
    "    predictions = lreg.predict(X_test)\n",
    "    scores = cross_val_score(lreg,X_train, y_train, cv=5)\n",
    "    print(\"Scores Regression Linéaire:\")\n",
    "    print(scores)\n",
    "    plt.scatter(y_test, predictions)\n",
    "    plt.xlabel(\"True Values\")\n",
    "    plt.ylabel(\"Predictions\")\n",
    "    return lreg, scores"
   ]
  },
  {
   "cell_type": "code",
   "execution_count": 5,
   "metadata": {},
   "outputs": [],
   "source": [
    "#ML model by Decision Tree Regressor \n",
    "def Decision_Tree_Regression(X,y):\n",
    "    X_train, X_test, y_train, y_test = train_test_split(X, y, test_size=0.3, shuffle=True,random_state=42)\n",
    "    dtr = DecisionTreeRegressor().fit(X_train, y_train)\n",
    "    dtr.score(X_test, y_test)\n",
    "    predictions = dtr.predict(X_test)\n",
    "    scores = cross_val_score(dtr,X_train, y_train, cv=5)\n",
    "    print(\"Scores Arbre de Decision:\")\n",
    "    print(scores)\n",
    "    plt.scatter(y_test, predictions)\n",
    "    plt.xlabel(\"True Values\")\n",
    "    plt.ylabel(\"Predictions\")\n",
    "    plt.legend(\"LSD\")\n",
    "    return dtr, scores"
   ]
  },
  {
   "cell_type": "code",
   "execution_count": 6,
   "metadata": {},
   "outputs": [],
   "source": [
    "#Print results of trained models for validation set\n",
    "def print_result_validation_set_par_algo(algo,name,pas,X,y):\n",
    "    print(\"Coefficient de détermination pour \"+ name +\" avec un pas de \"+pas)\n",
    "    print(algo.score(X,y))"
   ]
  },
  {
   "cell_type": "markdown",
   "metadata": {},
   "source": [
    "## We get the saved data from learning and validation sets"
   ]
  },
  {
   "cell_type": "code",
   "execution_count": 7,
   "metadata": {},
   "outputs": [],
   "source": [
    "#Data from learning set"
   ]
  },
  {
   "cell_type": "code",
   "execution_count": 8,
   "metadata": {},
   "outputs": [],
   "source": [
    "X_15min = pickle.load(open( \"X_learning15_min.p\", \"rb\"))\n",
    "X_hour = pickle.load(open( \"X_learninghour.p\", \"rb\"))\n",
    "X_6_hour = pickle.load(open( \"X_learning6_hour.p\", \"rb\"))\n",
    "X_day = pickle.load(open( \"X_learningday.p\", \"rb\"))\n",
    "X_week = pickle.load(open( \"X_learningweek.p\", \"rb\"))"
   ]
  },
  {
   "cell_type": "code",
   "execution_count": 9,
   "metadata": {},
   "outputs": [],
   "source": [
    "y_15min = pickle.load(open( \"y_learning15_min.p\", \"rb\"))\n",
    "y_hour = pickle.load(open( \"y_learninghour.p\", \"rb\"))\n",
    "y_6_hour = pickle.load(open( \"y_learning6_hour.p\", \"rb\"))\n",
    "y_day = pickle.load(open( \"y_learningday.p\", \"rb\"))\n",
    "y_week = pickle.load(open( \"y_learningweek.p\", \"rb\"))"
   ]
  },
  {
   "cell_type": "code",
   "execution_count": 10,
   "metadata": {},
   "outputs": [],
   "source": [
    "#Data from validation set"
   ]
  },
  {
   "cell_type": "code",
   "execution_count": 11,
   "metadata": {},
   "outputs": [],
   "source": [
    "X_validation_15min = pickle.load(open( \"X_validation_15min.p\", \"rb\"))\n",
    "X_validation_hour = pickle.load(open( \"X_validation_hour.p\", \"rb\"))\n",
    "X_validation_6_hour = pickle.load(open( \"X_validation_6hour.p\", \"rb\"))\n",
    "X_validation_day = pickle.load(open( \"X_validation_day.p\", \"rb\"))\n",
    "X_validation_week = pickle.load(open( \"X_validation_week.p\", \"rb\"))"
   ]
  },
  {
   "cell_type": "code",
   "execution_count": 12,
   "metadata": {},
   "outputs": [],
   "source": [
    "y_validation_15min = pickle.load(open( \"y_validation_15min.p\", \"rb\"))\n",
    "y_validation_hour = pickle.load(open( \"y_validation_hour.p\", \"rb\"))\n",
    "y_validation_6_hour = pickle.load(open( \"y_validation_6hour.p\", \"rb\"))\n",
    "y_validation_day = pickle.load(open( \"y_validation_day.p\", \"rb\"))\n",
    "y_validation_week = pickle.load(open( \"y_validation_week.p\", \"rb\"))"
   ]
  },
  {
   "cell_type": "code",
   "execution_count": 13,
   "metadata": {},
   "outputs": [],
   "source": [
    "y_validation_15min = y_validation_15min-30000\n",
    "y_validation_6_hour = pd.Series(y_validation_6_hour)-30000"
   ]
  },
  {
   "cell_type": "markdown",
   "metadata": {},
   "source": [
    "## We launch and display th results of training for the three algorithms by several steps"
   ]
  },
  {
   "cell_type": "code",
   "execution_count": 14,
   "metadata": {},
   "outputs": [],
   "source": [
    "#15 min step \n",
    "# L : Linear Regression\n",
    "# S : SVR\n",
    "# D : Decision Tree"
   ]
  },
  {
   "cell_type": "code",
   "execution_count": 15,
   "metadata": {},
   "outputs": [
    {
     "name": "stdout",
     "output_type": "stream",
     "text": [
      "Scores Regression Linéaire:\n",
      "[0.99996565 0.99996749 0.99996371 0.99996415 0.99996579]\n",
      "Scores SVR:\n",
      "[0.99954313 0.99954138 0.99958516 0.9996244  0.99954583]\n",
      "Scores Arbre de Decision:\n",
      "[0.99999955 0.99999965 0.99999949 0.99999974 0.9999997 ]\n"
     ]
    },
    {
     "data": {
      "image/png": "[encoded data removed]",
      "text/plain": [
       "<Figure size 432x288 with 1 Axes>"
      ]
     },
     "metadata": {},
     "output_type": "display_data"
    }
   ],
   "source": [
    "lreg_15min,lreg_scores_15min = Linear_Regression(X_15min,y_15min)\n",
    "svr_15min,svr_scores_15min = SVR_ML(X_15min,y_15min)\n",
    "dtr_15min,dtr_scores_15min = Decision_Tree_Regression(X_15min,y_15min)"
   ]
  },
  {
   "cell_type": "code",
   "execution_count": 16,
   "metadata": {},
   "outputs": [],
   "source": [
    "#1 hour step \n",
    "# L : Linear Regression\n",
    "# S : SVR\n",
    "# D : Decision Tree"
   ]
  },
  {
   "cell_type": "code",
   "execution_count": 17,
   "metadata": {},
   "outputs": [
    {
     "name": "stdout",
     "output_type": "stream",
     "text": [
      "Scores Regression Linéaire:\n",
      "[0.99998256 0.99998258 0.99998502 0.99998484 0.99998495]\n",
      "Scores SVR:\n",
      "[0.99583165 0.99673279 0.99684485 0.99629645 0.99693587]\n",
      "Scores Arbre de Decision:\n",
      "[0.99999581 0.99999622 0.99998893 0.99999405 0.99999459]\n"
     ]
    },
    {
     "data": {
      "image/png": "[encoded data removed]",
      "text/plain": [
       "<Figure size 432x288 with 1 Axes>"
      ]
     },
     "metadata": {},
     "output_type": "display_data"
    }
   ],
   "source": [
    "lreg_hour,lreg_scores_hour = Linear_Regression(X_hour,y_hour)\n",
    "svr_hour,svr_scores_hour = SVR_ML(X_hour,y_hour)\n",
    "dtr_hour,dtr_scores_hour = Decision_Tree_Regression(X_hour,y_hour)"
   ]
  },
  {
   "cell_type": "code",
   "execution_count": 18,
   "metadata": {},
   "outputs": [],
   "source": [
    "#6 hours step \n",
    "# L : Linear Regression\n",
    "# S : SVR\n",
    "# D : Decision Tree"
   ]
  },
  {
   "cell_type": "code",
   "execution_count": 19,
   "metadata": {},
   "outputs": [
    {
     "name": "stdout",
     "output_type": "stream",
     "text": [
      "Scores Regression Linéaire:\n",
      "[0.99998062 0.99997936 0.99998121 0.99998734 0.99997966]\n",
      "Scores SVR:\n",
      "[0.94367432 0.93651217 0.97626453 0.94175586 0.93612932]\n",
      "Scores Arbre de Decision:\n",
      "[0.99980349 0.99991062 0.99982412 0.99984195 0.99980401]\n"
     ]
    },
    {
     "data": {
      "image/png": "[encoded data removed]",
      "text/plain": [
       "<Figure size 432x288 with 1 Axes>"
      ]
     },
     "metadata": {},
     "output_type": "display_data"
    }
   ],
   "source": [
    "lreg_6_hour,lreg_scores_6_hour = Linear_Regression(X_6_hour,y_6_hour)\n",
    "svr_6_hour,svr_scores_6_hour = SVR_ML(X_6_hour,y_6_hour)\n",
    "dtr_6_hour,dtr_scores_6_hour = Decision_Tree_Regression(X_6_hour,y_6_hour)"
   ]
  },
  {
   "cell_type": "code",
   "execution_count": 20,
   "metadata": {},
   "outputs": [],
   "source": [
    "#1 day step \n",
    "# L : Linear Regression\n",
    "# S : SVR\n",
    "# D : Decision Tree"
   ]
  },
  {
   "cell_type": "code",
   "execution_count": 21,
   "metadata": {},
   "outputs": [
    {
     "name": "stdout",
     "output_type": "stream",
     "text": [
      "Scores Regression Linéaire:\n",
      "[0.99994694 0.99994441 0.99994433 0.99993915 0.99995521]\n",
      "Scores SVR:\n",
      "[0.5023184  0.58048852 0.51553613 0.65128256 0.53908299]\n",
      "Scores Arbre de Decision:\n",
      "[0.99629497 0.99761786 0.99835556 0.99859822 0.9993682 ]\n"
     ]
    },
    {
     "data": {
      "image/png": "[encoded data removed]",
      "text/plain": [
       "<Figure size 432x288 with 1 Axes>"
      ]
     },
     "metadata": {},
     "output_type": "display_data"
    }
   ],
   "source": [
    "lreg_day,lreg_scores_day = Linear_Regression(X_day,y_day)\n",
    "svr_day,svr_scores_day = SVR_ML(X_day,y_day)\n",
    "dtr_day,dtr_scores_day = Decision_Tree_Regression(X_day,y_day)"
   ]
  },
  {
   "cell_type": "code",
   "execution_count": 22,
   "metadata": {},
   "outputs": [],
   "source": [
    "#1 week step \n",
    "# L : Linear Regression\n",
    "# S : SVR\n",
    "# D : Decision Tree"
   ]
  },
  {
   "cell_type": "code",
   "execution_count": 23,
   "metadata": {},
   "outputs": [
    {
     "name": "stdout",
     "output_type": "stream",
     "text": [
      "Scores Regression Linéaire:\n",
      "[0.99897228 0.99874829 0.99572513 0.96882303 0.9634243 ]\n",
      "Scores SVR:\n",
      "[ 0.12170059  0.11813773  0.108843   -0.14154252  0.17217944]\n",
      "Scores Arbre de Decision:\n",
      "[0.97246084 0.85833286 0.76720076 0.54876112 0.89483223]\n"
     ]
    },
    {
     "data": {
      "image/png": "[encoded data removed]",
      "text/plain": [
       "<Figure size 432x288 with 1 Axes>"
      ]
     },
     "metadata": {},
     "output_type": "display_data"
    }
   ],
   "source": [
    "lreg_week,lreg_scores_week = Linear_Regression(X_week,y_week)\n",
    "svr_week,svr_scores_week = SVR_ML(X_week,y_week)\n",
    "dtr_week,dtr_scores_week = Decision_Tree_Regression(X_week,y_week)"
   ]
  },
  {
   "cell_type": "markdown",
   "metadata": {},
   "source": [
    "### Les résultats de validation sont très mauvais car certains points d'Energie active ont énormément dysfonctionné (voir Excel \"bug_validation_Energie.xlsx\")"
   ]
  },
  {
   "cell_type": "code",
   "execution_count": 24,
   "metadata": {},
   "outputs": [
    {
     "name": "stdout",
     "output_type": "stream",
     "text": [
      "Coefficient de détermination pour Decision Tree Regression avec un pas de 15 min\n",
      "-11903.687540493609\n",
      "Coefficient de détermination pour Support Vector Regression avec un pas de 15 min\n",
      "-15328.222848811352\n",
      "Coefficient de détermination pour Linear Regresion avec un pas de 15 min\n",
      "-17740.79845864446\n"
     ]
    }
   ],
   "source": [
    "print_result_validation_set_par_algo(dtr_15min,\"Decision Tree Regression\",\"15 min\",X_validation_15min,y_validation_15min)\n",
    "print_result_validation_set_par_algo(svr_15min,\"Support Vector Regression\",\"15 min\",X_validation_15min,y_validation_15min)\n",
    "print_result_validation_set_par_algo(lreg_15min,\"Linear Regresion\",\"15 min\",X_validation_15min,y_validation_15min)"
   ]
  },
  {
   "cell_type": "code",
   "execution_count": 25,
   "metadata": {},
   "outputs": [
    {
     "name": "stdout",
     "output_type": "stream",
     "text": [
      "Coefficient de détermination pour Decision Tree Regression avec un pas de une heure\n",
      "-119774.91112896218\n",
      "Coefficient de détermination pour Support Vector Regression avec un pas de une heure\n",
      "-138835.35038521246\n",
      "Coefficient de détermination pour Linear Regresion avec un pas de une heure\n",
      "-136357.2806117924\n"
     ]
    }
   ],
   "source": [
    "print_result_validation_set_par_algo(dtr_hour,\"Decision Tree Regression\",\"une heure\",X_validation_hour,y_validation_hour)\n",
    "print_result_validation_set_par_algo(svr_hour,\"Support Vector Regression\",\"une heure\",X_validation_hour,y_validation_hour)\n",
    "print_result_validation_set_par_algo(lreg_hour,\"Linear Regresion\",\"une heure\",X_validation_hour,y_validation_hour)"
   ]
  },
  {
   "cell_type": "code",
   "execution_count": 26,
   "metadata": {},
   "outputs": [
    {
     "name": "stdout",
     "output_type": "stream",
     "text": [
      "Coefficient de détermination pour Decision Tree Regression avec un pas de 6 heures\n",
      "-10645.649213339908\n",
      "Coefficient de détermination pour Support Vector Regression avec un pas de 6 heures\n",
      "-13239.063694926619\n",
      "Coefficient de détermination pour Linear Regresion avec un pas de 6 heures\n",
      "-13325.677321024294\n"
     ]
    }
   ],
   "source": [
    "print_result_validation_set_par_algo(dtr_6_hour,\"Decision Tree Regression\",\"6 heures\",X_validation_6_hour,y_validation_6_hour)\n",
    "print_result_validation_set_par_algo(svr_6_hour,\"Support Vector Regression\",\"6 heures\",X_validation_6_hour,y_validation_6_hour)\n",
    "print_result_validation_set_par_algo(lreg_6_hour,\"Linear Regresion\",\"6 heures\",X_validation_6_hour,y_validation_6_hour)"
   ]
  },
  {
   "cell_type": "code",
   "execution_count": 27,
   "metadata": {},
   "outputs": [
    {
     "name": "stdout",
     "output_type": "stream",
     "text": [
      "Coefficient de détermination pour Decision Tree Regression avec un pas de un jour\n",
      "-168700.79341940084\n",
      "Coefficient de détermination pour Support Vector Regression avec un pas de un jour\n",
      "-168221.0607358636\n",
      "Coefficient de détermination pour Linear Regresion avec un pas de un jour\n",
      "-174442.26229951458\n"
     ]
    }
   ],
   "source": [
    "print_result_validation_set_par_algo(dtr_day,\"Decision Tree Regression\",\"un jour\",X_validation_day,y_validation_day)\n",
    "print_result_validation_set_par_algo(svr_day,\"Support Vector Regression\",\"un jour\",X_validation_day,y_validation_day)\n",
    "print_result_validation_set_par_algo(lreg_day,\"Linear Regresion\",\"un jour\",X_validation_day,y_validation_day)"
   ]
  },
  {
   "cell_type": "code",
   "execution_count": 28,
   "metadata": {},
   "outputs": [
    {
     "name": "stdout",
     "output_type": "stream",
     "text": [
      "Coefficient de détermination pour Decision Tree Regression avec un pas de un jour\n",
      "0.0\n",
      "Coefficient de détermination pour Support Vector Regression avec un pas de un jour\n",
      "0.0\n",
      "Coefficient de détermination pour Linear Regresion avec un pas de un jour\n",
      "0.0\n"
     ]
    }
   ],
   "source": [
    "print_result_validation_set_par_algo(dtr_week,\"Decision Tree Regression\",\"un jour\",X_validation_week,y_validation_week)\n",
    "print_result_validation_set_par_algo(svr_week,\"Support Vector Regression\",\"un jour\",X_validation_week,y_validation_week)\n",
    "print_result_validation_set_par_algo(lreg_week,\"Linear Regresion\",\"un jour\",X_validation_week,y_validation_week)"
   ]
  }
 ],
 "metadata": {
  "kernelspec": {
   "display_name": "Python 3",
   "language": "python",
   "name": "python3"
  },
  "language_info": {
   "codemirror_mode": {
    "name": "ipython",
    "version": 3
   },
   "file_extension": ".py",
   "mimetype": "text/x-python",
   "name": "python",
   "nbconvert_exporter": "python",
   "pygments_lexer": "ipython3",
   "version": "3.6.5"
  }
 },
 "nbformat": 4,
 "nbformat_minor": 2
}
