{
 "cells": [
  {
   "cell_type": "code",
   "execution_count": 1,
   "metadata": {},
   "outputs": [],
   "source": [
    "import xlrd\n",
    "import numpy as np\n",
    "from numpy import nan\n",
    "import pickle\n",
    "import math\n",
    "import operator\n",
    "import matplotlib.pyplot as plt\n",
    "import plotly.plotly as py\n",
    "import plotly\n",
    "plotly.tools.set_credentials_file(username='eadrien', api_key='KnEjzGXF14YNufp5E9xs')\n",
    "import plotly.graph_objs as go\n",
    "import pandas as pd\n",
    "import calendar\n",
    "import time\n",
    "from pandas.tseries.offsets import BDay\n",
    "\n",
    "\n",
    "pd.set_option('display.float_format', lambda x: '%.2f' % x)\n"
   ]
  },
  {
   "cell_type": "code",
   "execution_count": 2,
   "metadata": {},
   "outputs": [],
   "source": [
    "#Save data frame as Excel \n",
    "def save_df_in_excel(filename, df):\n",
    "    writer = pd.ExcelWriter(filename)\n",
    "    df.to_excel(writer,\"Sheet\",index = False) \n",
    "    writer.save()"
   ]
  },
  {
   "cell_type": "code",
   "execution_count": 3,
   "metadata": {},
   "outputs": [],
   "source": [
    "df_norm_15min = pickle.load(open( \"X_learning15_min.p\", \"rb\"))\n",
    "df_norm_hour = pickle.load(open( \"X_learninghour.p\", \"rb\"))\n",
    "df_norm_6_hour = pickle.load(open( \"X_learning6_hour.p\", \"rb\"))\n",
    "df_norm_day = pickle.load(open( \"X_learningday.p\", \"rb\"))\n",
    "df_norm_week = pickle.load(open( \"X_learningweek.p\", \"rb\"))"
   ]
  },
  {
   "cell_type": "code",
   "execution_count": 4,
   "metadata": {},
   "outputs": [],
   "source": [
    "df = pd.DataFrame([df_norm_15min.columns,df_norm_hour.columns,df_norm_6_hour.columns,df_norm_day.columns,df_norm_week.columns],index= [\"15_min\",\"hour\",\"6 hours\",\"day\",\"week\"]).transpose()"
   ]
  },
  {
   "cell_type": "code",
   "execution_count": 5,
   "metadata": {},
   "outputs": [],
   "source": [
    "save_df_in_excel('features.xlsx', df)"
   ]
  }
 ],
 "metadata": {
  "kernelspec": {
   "display_name": "Python 3",
   "language": "python",
   "name": "python3"
  },
  "language_info": {
   "codemirror_mode": {
    "name": "ipython",
    "version": 3
   },
   "file_extension": ".py",
   "mimetype": "text/x-python",
   "name": "python",
   "nbconvert_exporter": "python",
   "pygments_lexer": "ipython3",
   "version": "3.6.5"
  }
 },
 "nbformat": 4,
 "nbformat_minor": 2
}
