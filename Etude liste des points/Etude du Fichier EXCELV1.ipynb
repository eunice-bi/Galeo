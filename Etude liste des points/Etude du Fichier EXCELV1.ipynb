{
 "cells": [
  {
   "cell_type": "code",
   "execution_count": 1,
   "metadata": {
    "collapsed": true
   },
   "outputs": [],
   "source": [
    "import xlrd\n",
    "import pandas\n",
    "import numpy as np\n",
    "from numpy import nan\n",
    "import operator"
   ]
  },
  {
   "cell_type": "code",
   "execution_count": 2,
   "metadata": {
    "collapsed": true
   },
   "outputs": [],
   "source": [
    "def cmp(a, b):\n",
    "    for i in range(len(a)):\n",
    "        if (np.isnan(a[i]) == True):\n",
    "            if(np.isnan(b[i]) == False):\n",
    "                return False\n",
    "        else :\n",
    "            if (a[i]!=b[i]) :\n",
    "                return False\n",
    "    return True"
   ]
  },
  {
   "cell_type": "markdown",
   "metadata": {},
   "source": [
    "On récupère les valeurs du Excel"
   ]
  },
  {
   "cell_type": "code",
   "execution_count": 3,
   "metadata": {},
   "outputs": [],
   "source": [
    "df = pandas.read_excel(\"data.xlsx\")"
   ]
  },
  {
   "cell_type": "markdown",
   "metadata": {},
   "source": [
    "On récupère les noms des colonnes avec les \"codes/adresses\""
   ]
  },
  {
   "cell_type": "code",
   "execution_count": 4,
   "metadata": {
    "collapsed": true
   },
   "outputs": [],
   "source": [
    "names_columns = df.iloc[0]"
   ]
  },
  {
   "cell_type": "markdown",
   "metadata": {},
   "source": [
    "Comme les codes sont considérés comme des valeurs dans le data frame, on enlève la première ligne du data frame"
   ]
  },
  {
   "cell_type": "code",
   "execution_count": 5,
   "metadata": {
    "collapsed": true
   },
   "outputs": [],
   "source": [
    "df_no_codes = df.drop(df.index[0])"
   ]
  },
  {
   "cell_type": "code",
   "execution_count": 6,
   "metadata": {
    "collapsed": true
   },
   "outputs": [],
   "source": [
    "df_no_codes.iloc[:,0:3419] = df_no_codes.iloc[:,0:3419].astype(float)"
   ]
  },
  {
   "cell_type": "code",
   "execution_count": 7,
   "metadata": {
    "collapsed": true
   },
   "outputs": [],
   "source": [
    "df_no_codes = pandas.DataFrame.drop_duplicates(df_no_codes)"
   ]
  },
  {
   "cell_type": "markdown",
   "metadata": {},
   "source": [
    "Ainsi on peut enlever toutes les colonnes vides du data frame"
   ]
  },
  {
   "cell_type": "code",
   "execution_count": 8,
   "metadata": {
    "collapsed": true
   },
   "outputs": [],
   "source": [
    "df_without_empty_columns = df_no_codes.dropna(axis='columns', how='all')"
   ]
  },
  {
   "cell_type": "code",
   "execution_count": 9,
   "metadata": {},
   "outputs": [],
   "source": [
    "df_transpose = df_without_empty_columns.transpose() \n",
    "\n",
    "df_transpose[\"is_duplicate\"]= df_transpose.duplicated()\n",
    "df_transpose_duplicated = df_transpose[df_transpose[\"is_duplicate\"]== True]\n",
    "df_transpose_duplicated\n",
    "df_duplicated = df_transpose_duplicated.transpose()\n",
    "df_duplicated = df_duplicated.iloc[0:2823,0:74]\n",
    "df_without_empty_columns = df_transpose.drop_duplicates()\n",
    "df_without_empty_columns = df_without_empty_columns.transpose()\n",
    "df_without_empty_columns = df_without_empty_columns[:-1]"
   ]
  },
  {
   "cell_type": "markdown",
   "metadata": {},
   "source": [
    "On récupère les noms des colonnes du data frame sans colonnes vides"
   ]
  },
  {
   "cell_type": "code",
   "execution_count": 10,
   "metadata": {
    "collapsed": true
   },
   "outputs": [],
   "source": [
    "names_columns_without_empty_columns = list(df_without_empty_columns)"
   ]
  },
  {
   "cell_type": "code",
   "execution_count": 11,
   "metadata": {
    "collapsed": true,
    "scrolled": false
   },
   "outputs": [],
   "source": [
    "columns_codes_without_empty_columns = []\n",
    "for i in range(len(names_columns_without_empty_columns)):\n",
    "    columns_codes_without_empty_columns.append(names_columns.loc[names_columns_without_empty_columns[i]])"
   ]
  },
  {
   "cell_type": "markdown",
   "metadata": {},
   "source": [
    "Et on met les noms des colonnes dans le data frame \"names_columns_without_empty_columns\""
   ]
  },
  {
   "cell_type": "code",
   "execution_count": 12,
   "metadata": {
    "collapsed": true
   },
   "outputs": [],
   "source": [
    "names_columns_without_empty_columns = pandas.DataFrame(columns_codes_without_empty_columns,names_columns_without_empty_columns)"
   ]
  },
  {
   "cell_type": "markdown",
   "metadata": {},
   "source": [
    "On récupère les indexes des codes où il y a des noms écrits en français"
   ]
  },
  {
   "cell_type": "code",
   "execution_count": 13,
   "metadata": {
    "collapsed": true
   },
   "outputs": [],
   "source": [
    "titles_columns_codes__without_empty_columns = []\n",
    "indexes = []\n",
    "for i in range(len(columns_codes_without_empty_columns)):\n",
    "    if(columns_codes_without_empty_columns[i][0].isalnum() == True):\n",
    "        titles_columns_codes__without_empty_columns.append(columns_codes_without_empty_columns[i])\n",
    "        indexes.append(i)"
   ]
  },
  {
   "cell_type": "code",
   "execution_count": 14,
   "metadata": {
    "collapsed": true
   },
   "outputs": [],
   "source": [
    "#df_no_codes.duplicated()"
   ]
  },
  {
   "cell_type": "markdown",
   "metadata": {},
   "source": [
    "On compare le data frame avec les colonnes vides et celui sans colonnes vides afin d'avoir les noms des colonnes vides"
   ]
  },
  {
   "cell_type": "code",
   "execution_count": 15,
   "metadata": {
    "collapsed": true
   },
   "outputs": [],
   "source": [
    "columns_names_with_only_empty_columns = set(df_no_codes.columns).difference(df_without_empty_columns.columns)"
   ]
  },
  {
   "cell_type": "code",
   "execution_count": 16,
   "metadata": {
    "collapsed": true
   },
   "outputs": [],
   "source": [
    "columns_names_with_only_empty_columns = list(columns_names_with_only_empty_columns)"
   ]
  },
  {
   "cell_type": "markdown",
   "metadata": {},
   "source": [
    "On récupère les codes correspondant à ces noms"
   ]
  },
  {
   "cell_type": "code",
   "execution_count": 17,
   "metadata": {
    "collapsed": true
   },
   "outputs": [],
   "source": [
    "columns_codes_with_only_empty_columns = []\n",
    "for i in range(len(columns_names_with_only_empty_columns)):\n",
    "    columns_codes_with_only_empty_columns.append(names_columns.loc[columns_names_with_only_empty_columns[i]])"
   ]
  },
  {
   "cell_type": "markdown",
   "metadata": {},
   "source": [
    "On a finalement la liste des noms des colonnes vides avec leurs codes correspondant"
   ]
  },
  {
   "cell_type": "code",
   "execution_count": 18,
   "metadata": {
    "collapsed": true
   },
   "outputs": [],
   "source": [
    "df_columns_names_with_only_na = pandas.DataFrame(columns_codes_with_only_empty_columns,columns_names_with_only_empty_columns) "
   ]
  },
  {
   "cell_type": "markdown",
   "metadata": {},
   "source": [
    " On récupère la liste des indexes dans le data frame de premières colonnes servant de modèles de duplication"
   ]
  },
  {
   "cell_type": "code",
   "execution_count": 19,
   "metadata": {
    "collapsed": true
   },
   "outputs": [],
   "source": [
    "list_indexes_models_duplicated = []\n",
    "for i in range(len(df_without_empty_columns.columns)):\n",
    "    for j in range(len(df_duplicated.columns)):\n",
    "        if(df_without_empty_columns.iloc[:,i].equals(df_duplicated.iloc[:-1,j] == True)):\n",
    "            list_indexes_models_duplicated.append(i)"
   ]
  },
  {
   "cell_type": "code",
   "execution_count": 20,
   "metadata": {
    "collapsed": true
   },
   "outputs": [],
   "source": [
    "#df.iloc[:,0].equals(df_duplicated.iloc[:-1,0])"
   ]
  },
  {
   "cell_type": "code",
   "execution_count": 21,
   "metadata": {
    "collapsed": true
   },
   "outputs": [],
   "source": [
    "df2 = df_without_empty_columns.iloc[:,indexes]"
   ]
  },
  {
   "cell_type": "code",
   "execution_count": 22,
   "metadata": {
    "collapsed": true
   },
   "outputs": [],
   "source": [
    "df2.columns = titles_columns_codes__without_empty_columns "
   ]
  },
  {
   "cell_type": "markdown",
   "metadata": {},
   "source": [
    "On récupère les noms des colonnes écrits en français "
   ]
  },
  {
   "cell_type": "code",
   "execution_count": 23,
   "metadata": {
    "collapsed": true
   },
   "outputs": [],
   "source": [
    "df_only_titles = pandas.concat([df_without_empty_columns.iloc[:,0:214],df2],axis = 1, sort=False)"
   ]
  },
  {
   "cell_type": "markdown",
   "metadata": {},
   "source": [
    "On met df_only_titles dans un data frame"
   ]
  },
  {
   "cell_type": "code",
   "execution_count": 24,
   "metadata": {
    "collapsed": true
   },
   "outputs": [],
   "source": [
    "df_names_columns_only_titles = pandas.DataFrame(list(df_only_titles)) "
   ]
  },
  {
   "cell_type": "markdown",
   "metadata": {},
   "source": [
    "Transformer toutes les valeurs des colonnes de chaîne de caractères à nombres décimaux"
   ]
  },
  {
   "cell_type": "code",
   "execution_count": 25,
   "metadata": {
    "collapsed": true
   },
   "outputs": [],
   "source": [
    "df_without_empty_columns.iloc[:,0:3109] = df_without_empty_columns.iloc[:,0:3109].astype(float)"
   ]
  },
  {
   "cell_type": "markdown",
   "metadata": {},
   "source": [
    "On calcule la moyenne de chaque colonne pour faire un premier classement"
   ]
  },
  {
   "cell_type": "code",
   "execution_count": 26,
   "metadata": {
    "collapsed": true,
    "scrolled": true
   },
   "outputs": [],
   "source": [
    "mean_df_without_empty_columns = df_without_empty_columns.mean()"
   ]
  },
  {
   "cell_type": "markdown",
   "metadata": {},
   "source": [
    "On calcule la min de chaque colonne "
   ]
  },
  {
   "cell_type": "code",
   "execution_count": 27,
   "metadata": {
    "collapsed": true
   },
   "outputs": [],
   "source": [
    "min_df_without_empty_columns = df_without_empty_columns.min()"
   ]
  },
  {
   "cell_type": "markdown",
   "metadata": {},
   "source": [
    "On calcule la max de chaque colonne "
   ]
  },
  {
   "cell_type": "code",
   "execution_count": 28,
   "metadata": {
    "collapsed": true
   },
   "outputs": [],
   "source": [
    "max_df_without_empty_columns = df_without_empty_columns.max()"
   ]
  },
  {
   "cell_type": "markdown",
   "metadata": {},
   "source": [
    "On met les min et les max dans le même data frame que celui de départ"
   ]
  },
  {
   "cell_type": "code",
   "execution_count": 29,
   "metadata": {
    "collapsed": true
   },
   "outputs": [],
   "source": [
    "min_max_df = pandas.concat([min_df_without_empty_columns, max_df_without_empty_columns],axis = 1)"
   ]
  },
  {
   "cell_type": "code",
   "execution_count": 30,
   "metadata": {
    "collapsed": true
   },
   "outputs": [],
   "source": [
    "min_max_df = pandas.DataFrame(min_max_df)"
   ]
  },
  {
   "cell_type": "markdown",
   "metadata": {},
   "source": [
    "On met les noms des colonnes"
   ]
  },
  {
   "cell_type": "code",
   "execution_count": 31,
   "metadata": {
    "collapsed": true
   },
   "outputs": [],
   "source": [
    "min_max_df.columns = ['min','max']"
   ]
  },
  {
   "cell_type": "code",
   "execution_count": 32,
   "metadata": {
    "collapsed": true
   },
   "outputs": [],
   "source": [
    "min_max_df['code'] = columns_codes_without_empty_columns"
   ]
  },
  {
   "cell_type": "markdown",
   "metadata": {},
   "source": [
    "On affiche les valeurs réelles en nombres à virgules et pas notation scientifique"
   ]
  },
  {
   "cell_type": "code",
   "execution_count": 33,
   "metadata": {
    "collapsed": true
   },
   "outputs": [],
   "source": [
    "pandas.set_option('display.float_format', lambda x: '%.3f' % x)"
   ]
  },
  {
   "cell_type": "markdown",
   "metadata": {},
   "source": [
    "On trie le data frame avec les moyennes par ordre croissant"
   ]
  },
  {
   "cell_type": "code",
   "execution_count": 34,
   "metadata": {
    "collapsed": true
   },
   "outputs": [],
   "source": [
    "sorted_mean_df_without_empty_columns = mean_df_without_empty_columns.sort_values()"
   ]
  },
  {
   "cell_type": "code",
   "execution_count": 35,
   "metadata": {
    "collapsed": true
   },
   "outputs": [],
   "source": [
    "sorted_mean_df_without_empty_columns = pandas.DataFrame(sorted_mean_df_without_empty_columns)"
   ]
  },
  {
   "cell_type": "markdown",
   "metadata": {
    "scrolled": true
   },
   "source": [
    "On récupère le data frame avec les moyennes dans une liste"
   ]
  },
  {
   "cell_type": "code",
   "execution_count": 36,
   "metadata": {
    "collapsed": true
   },
   "outputs": [],
   "source": [
    "columns_names_with_only_empty_columns = list(sorted_mean_df_without_empty_columns.index)"
   ]
  },
  {
   "cell_type": "markdown",
   "metadata": {},
   "source": [
    "On ajoute les noms des colonnes au data frame avec les moyennes"
   ]
  },
  {
   "cell_type": "code",
   "execution_count": 37,
   "metadata": {
    "collapsed": true
   },
   "outputs": [],
   "source": [
    "columns_codes_with_only_empty_columns = []\n",
    "for i in range(len(columns_names_with_only_empty_columns)):\n",
    "    columns_codes_with_only_empty_columns.append(names_columns.loc[columns_names_with_only_empty_columns[i]])\n"
   ]
  },
  {
   "cell_type": "code",
   "execution_count": 38,
   "metadata": {
    "collapsed": true
   },
   "outputs": [],
   "source": [
    "columns_codes_with_only_empty_columns = pandas.DataFrame(columns_codes_with_only_empty_columns)"
   ]
  },
  {
   "cell_type": "markdown",
   "metadata": {},
   "source": [
    "On met dans le même data frame les noms des colonnes (ou adresse) et les moyennes"
   ]
  },
  {
   "cell_type": "code",
   "execution_count": 39,
   "metadata": {
    "collapsed": true
   },
   "outputs": [],
   "source": [
    "sorted_mean_df_without_empty_columns['code'] = columns_codes_with_only_empty_columns.values"
   ]
  },
  {
   "cell_type": "markdown",
   "metadata": {
    "scrolled": true
   },
   "source": [
    "On créée un data frame avec uniquement les moyennes des colonnes écrites en français"
   ]
  },
  {
   "cell_type": "code",
   "execution_count": 40,
   "metadata": {
    "collapsed": true
   },
   "outputs": [],
   "source": [
    "value = titles_columns_codes__without_empty_columns "
   ]
  },
  {
   "cell_type": "code",
   "execution_count": 41,
   "metadata": {
    "collapsed": true
   },
   "outputs": [],
   "source": [
    "mean_df_with_only_titles = sorted_mean_df_without_empty_columns.loc[list(df_without_empty_columns.iloc[:,0:214].columns)]"
   ]
  },
  {
   "cell_type": "code",
   "execution_count": 42,
   "metadata": {
    "collapsed": true
   },
   "outputs": [],
   "source": [
    "mean_df_with_only_titles_codes = []\n",
    "for i in range(len(value)):\n",
    "    mean_df_with_only_titles_codes.append(sorted_mean_df_without_empty_columns.loc[sorted_mean_df_without_empty_columns[\"code\"] == value[i]])"
   ]
  },
  {
   "cell_type": "markdown",
   "metadata": {},
   "source": [
    "On met toutes les valeurs du data frame avce seulement des noms de colonne écrits en français en nombres réels"
   ]
  },
  {
   "cell_type": "code",
   "execution_count": 43,
   "metadata": {
    "collapsed": true,
    "scrolled": true
   },
   "outputs": [],
   "source": [
    "df_only_titles.iloc[:,0:378] = df_only_titles.iloc[:,0:378].astype(float)"
   ]
  },
  {
   "cell_type": "markdown",
   "metadata": {},
   "source": [
    "On calcule le min du data frame avce seulement des noms de colonne écrits en français"
   ]
  },
  {
   "cell_type": "code",
   "execution_count": 44,
   "metadata": {
    "collapsed": true
   },
   "outputs": [],
   "source": [
    "min_df_only_titles = df_only_titles.min()"
   ]
  },
  {
   "cell_type": "markdown",
   "metadata": {},
   "source": [
    "On calcule le max du data frame avce seulement des noms de colonne écrits en français"
   ]
  },
  {
   "cell_type": "code",
   "execution_count": 45,
   "metadata": {
    "collapsed": true
   },
   "outputs": [],
   "source": [
    "max_df_only_titles = df_only_titles.max()"
   ]
  },
  {
   "cell_type": "markdown",
   "metadata": {},
   "source": [
    "On met les min et max dans le même data frame"
   ]
  },
  {
   "cell_type": "code",
   "execution_count": 46,
   "metadata": {
    "collapsed": true
   },
   "outputs": [],
   "source": [
    "min_max_df_only_titles = pandas.concat([min_df_only_titles, max_df_only_titles],axis = 1)\n",
    "min_max_df_only_titles = pandas.DataFrame(min_max_df_only_titles)\n",
    "min_max_df_only_titles.columns = ['min','max']"
   ]
  },
  {
   "cell_type": "markdown",
   "metadata": {
    "collapsed": true
   },
   "source": [
    "On récupère les valeurs uniques pour chaque colonne du data frame de base"
   ]
  },
  {
   "cell_type": "code",
   "execution_count": 47,
   "metadata": {
    "collapsed": true
   },
   "outputs": [],
   "source": [
    "list_unique_values = []\n",
    "\n",
    "for i in range(len(names_columns_without_empty_columns)):\n",
    "    value = list(df_without_empty_columns[list(df_without_empty_columns)[i]].unique())\n",
    "    list_unique_values.append(value)"
   ]
  },
  {
   "cell_type": "code",
   "execution_count": 48,
   "metadata": {
    "collapsed": true
   },
   "outputs": [],
   "source": [
    "df_unique_values = pandas.DataFrame(list_unique_values)"
   ]
  },
  {
   "cell_type": "markdown",
   "metadata": {
    "collapsed": true
   },
   "source": [
    "On récupère les valeurs uniques pour les colonnes avec des noms écrits en français"
   ]
  },
  {
   "cell_type": "code",
   "execution_count": 49,
   "metadata": {
    "collapsed": true
   },
   "outputs": [],
   "source": [
    "list_unique_values_titles = []\n",
    "\n",
    "for i in range(len(df_names_columns_only_titles[0])):\n",
    "    value = list(df_only_titles[df_names_columns_only_titles[0][i]].unique())\n",
    "    list_unique_values_titles.append(value)"
   ]
  },
  {
   "cell_type": "code",
   "execution_count": 50,
   "metadata": {
    "collapsed": true
   },
   "outputs": [],
   "source": [
    "df_unique_values_titles = pandas.DataFrame(list_unique_values_titles)"
   ]
  },
  {
   "cell_type": "code",
   "execution_count": 51,
   "metadata": {
    "collapsed": true
   },
   "outputs": [],
   "source": [
    "df_unique_values_titles.index = df_names_columns_only_titles[0]"
   ]
  },
  {
   "cell_type": "code",
   "execution_count": 52,
   "metadata": {
    "collapsed": true
   },
   "outputs": [],
   "source": [
    "df_unique_values.index = list(df_without_empty_columns)"
   ]
  },
  {
   "cell_type": "markdown",
   "metadata": {},
   "source": [
    "On ajoute les adresses des colonnes au data frame des valeurs uniques"
   ]
  },
  {
   "cell_type": "code",
   "execution_count": 53,
   "metadata": {
    "collapsed": true
   },
   "outputs": [],
   "source": [
    "list_indexes_locations_titles = []\n",
    "for i in range(214):\n",
    "    list_indexes_locations_titles.append(df_without_empty_columns.columns.get_loc(df_names_columns_only_titles[0][i]))\n",
    "    \n",
    "list_titles_codes= []\n",
    "for i in range(len(list_indexes_locations_titles)):\n",
    "    list_titles_codes.append(columns_codes_without_empty_columns[list_indexes_locations_titles[i]])"
   ]
  },
  {
   "cell_type": "code",
   "execution_count": 54,
   "metadata": {
    "collapsed": true
   },
   "outputs": [],
   "source": [
    "df_columns_codes_without_empty_columns = pandas.DataFrame(columns_codes_without_empty_columns)"
   ]
  },
  {
   "cell_type": "code",
   "execution_count": 55,
   "metadata": {
    "collapsed": true
   },
   "outputs": [],
   "source": [
    "list_titles_codes = pandas.DataFrame(list_titles_codes)"
   ]
  },
  {
   "cell_type": "code",
   "execution_count": 56,
   "metadata": {
    "collapsed": true
   },
   "outputs": [],
   "source": [
    "df_names_columns_only_titles = pandas.concat([df_names_columns_only_titles,list_titles_codes],axis = 1, sort=False)"
   ]
  },
  {
   "cell_type": "markdown",
   "metadata": {},
   "source": [
    "On met dans le même data frame les moyennes, les min et les max"
   ]
  },
  {
   "cell_type": "code",
   "execution_count": 57,
   "metadata": {
    "collapsed": true
   },
   "outputs": [],
   "source": [
    "mean_in_min_max_df = []\n",
    "for i in range(len(min_max_df)):\n",
    "    b = min_max_df.axes[0].tolist()[i]\n",
    "    #c = df_min_max_modified.loc[b]\n",
    "    mean_in_min_max_df.append(sorted_mean_df_without_empty_columns.loc[b][0])"
   ]
  },
  {
   "cell_type": "code",
   "execution_count": 58,
   "metadata": {
    "collapsed": true
   },
   "outputs": [],
   "source": [
    "mean_in_min_max_df = pandas.DataFrame(mean_in_min_max_df)"
   ]
  },
  {
   "cell_type": "code",
   "execution_count": 59,
   "metadata": {},
   "outputs": [
    {
     "name": "stderr",
     "output_type": "stream",
     "text": [
      "C:\\Users\\paule\\Anaconda3\\lib\\site-packages\\pandas\\core\\indexes\\api.py:107: RuntimeWarning: '<' not supported between instances of 'str' and 'int', sort order is undefined for incomparable objects\n",
      "  result = result.union(other)\n"
     ]
    }
   ],
   "source": [
    "df_mean_and_min_max = pandas.concat([min_max_df,mean_in_min_max_df],axis = 1, sort=False)"
   ]
  },
  {
   "cell_type": "code",
   "execution_count": 60,
   "metadata": {
    "collapsed": true
   },
   "outputs": [],
   "source": [
    "#df_without_empty_columns.drop(df_without_empty_columns.columns[123], axis=1, inplace=True)"
   ]
  },
  {
   "cell_type": "markdown",
   "metadata": {},
   "source": [
    "On récupère la liste des colonnes dupliquées"
   ]
  },
  {
   "cell_type": "code",
   "execution_count": 61,
   "metadata": {
    "collapsed": true
   },
   "outputs": [],
   "source": [
    "duplicates = []\n",
    "for j in range(len(df_duplicated.columns)):\n",
    "    list_a = list(df_duplicated.iloc[:,j])\n",
    "    for i in range(len(df_without_empty_columns.columns)):\n",
    "        #if(bool(set(df_duplicated['Environmental Sensor Device 32.2']).intersection(df_without_empty_columns.iloc[:,i]))==True):\n",
    "        list_b = list(df_without_empty_columns.iloc[:,i])\n",
    "        if(cmp(list_a,list_b)==True):\n",
    "            duplicates.append([j,i])"
   ]
  },
  {
   "cell_type": "markdown",
   "metadata": {},
   "source": [
    "On prend les indexes des modèles de colonnes dupliquées "
   ]
  },
  {
   "cell_type": "code",
   "execution_count": 62,
   "metadata": {
    "collapsed": true
   },
   "outputs": [],
   "source": [
    "indexes_models = []\n",
    "for i in range(len(duplicates)):\n",
    "    if(i+1 != len(duplicates)):\n",
    "        if(duplicates[i][0]==duplicates[i+1][0]):\n",
    "            df_duplicated = pandas.concat([df_duplicated,df_without_empty_columns.iloc[:,duplicates[i+1][1]]], axis=1)\n",
    "            indexes_models.append(duplicates[i][1])\n",
    "            df_without_empty_columns.drop(df_without_empty_columns.columns[duplicates[i+1][1]], axis=1, inplace=True)\n",
    "        "
   ]
  },
  {
   "cell_type": "markdown",
   "metadata": {},
   "source": [
    "On récupère les modèles des colonnes dupliquées dans un data frame"
   ]
  },
  {
   "cell_type": "code",
   "execution_count": 63,
   "metadata": {
    "collapsed": true
   },
   "outputs": [],
   "source": [
    "df_models_duplicates = pandas.DataFrame(df_without_empty_columns.iloc[:,indexes_models[0]])\n",
    "for i in range(1,len(indexes_models)):\n",
    "     df_models_duplicates  = pandas.concat([df_models_duplicates, df_without_empty_columns.iloc[:,indexes_models[i]]], axis=1)"
   ]
  },
  {
   "cell_type": "markdown",
   "metadata": {
    "collapsed": true
   },
   "source": [
    "On sauvegarde tous les data frames dans un fichier Excel"
   ]
  },
  {
   "cell_type": "code",
   "execution_count": 64,
   "metadata": {
    "collapsed": true
   },
   "outputs": [],
   "source": [
    "writer = pandas.ExcelWriter(\"data_results.xlsx\")\n",
    "df_without_empty_columns.to_excel(writer,\"Without empty columns\")\n",
    "names_columns.to_excel(writer,\"Col names\",header = False)\n",
    "df_columns_names_with_only_na.to_excel(writer,\"Col names only NA\")\n",
    "names_columns_without_empty_columns.to_excel(writer,\"Col names without NA\",header = False)\n",
    "df_only_titles.to_excel(writer,\"Only titles\")\n",
    "df_names_columns_only_titles.to_excel(writer,\"Titles and adresses as names\",header = False, index = False) \n",
    "sorted_mean_df_without_empty_columns.to_excel(writer,\"Mean\")\n",
    "min_max_df_only_titles.to_excel(writer,\"Min Max only for titles\")\n",
    "min_max_df.to_excel(writer,\"Min Max\")\n",
    "df_mean_and_min_max.to_excel(writer,\"Mean Min Max\")\n",
    "df_unique_values.to_excel(writer,\"Unique Values\")\n",
    "df_unique_values_titles.to_excel(writer,\"Unique Values only for titles\")\n",
    "df_duplicated.to_excel(writer,\"Duplicated Col\")\n",
    "df_models_duplicates.to_excel(writer,\"Models of Duplicated Col\")\n",
    "writer.save()"
   ]
  }
 ],
 "metadata": {
  "kernelspec": {
   "display_name": "Python 3",
   "language": "python",
   "name": "python3"
  },
  "language_info": {
   "codemirror_mode": {
    "name": "ipython",
    "version": 3
   },
   "file_extension": ".py",
   "mimetype": "text/x-python",
   "name": "python",
   "nbconvert_exporter": "python",
   "pygments_lexer": "ipython3",
   "version": "3.6.3"
  }
 },
 "nbformat": 4,
 "nbformat_minor": 2
}
