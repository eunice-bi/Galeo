{
 "cells": [
  {
   "cell_type": "code",
   "execution_count": 1,
   "metadata": {},
   "outputs": [],
   "source": [
    "import xlrd\n",
    "import numpy as np\n",
    "from numpy import nan\n",
    "import operator\n",
    "import matplotlib.pyplot as plt\n",
    "import plotly.plotly as py\n",
    "import plotly\n",
    "plotly.tools.set_credentials_file(username='eadrien', api_key='KnEjzGXF14YNufp5E9xs')\n",
    "import plotly.graph_objs as go\n",
    "import math\n",
    "import pandas as pd\n",
    "import re"
   ]
  },
  {
   "cell_type": "code",
   "execution_count": 2,
   "metadata": {},
   "outputs": [],
   "source": [
    "def search_value_in_list_first_column(list,value):\n",
    "    for i in range(len(list)):\n",
    "        if list[i][0] == value:\n",
    "            return list[i][1]\n",
    "    return value"
   ]
  },
  {
   "cell_type": "code",
   "execution_count": 3,
   "metadata": {},
   "outputs": [],
   "source": [
    "def search_name_objects_in_list(list,value):\n",
    "    for i in range(len(list)):\n",
    "        end_value = None\n",
    "        if (len(str(value))==7 ) :\n",
    "            end_value = value[-3:]\n",
    "            if list[i][:4] == value[:4]:\n",
    "                return list[i]+end_value\n",
    "    return value"
   ]
  },
  {
   "cell_type": "code",
   "execution_count": 4,
   "metadata": {},
   "outputs": [],
   "source": [
    "def search_name_sub_objects_in_list(list,value,list_noms_objets,df_value_Code5):\n",
    "    for i in range(len(list)):\n",
    "        length = len(str(df_value_Code5))\n",
    "        if (length>8) :\n",
    "            if (len(str(list[i]))>len(str(value))):\n",
    "                if(length == len(str(list_noms_objets[i]))+3):\n",
    "                    if str(list[i])[:len(str(value))]== str(value):\n",
    "                        return list[i]\n",
    "    return value"
   ]
  },
  {
   "cell_type": "code",
   "execution_count": 5,
   "metadata": {},
   "outputs": [],
   "source": [
    "def save_df_in_excel(filename, df):\n",
    "    writer = pd.ExcelWriter(filename)\n",
    "    df.to_excel(writer,\"Sheet\") \n",
    "    writer.save()"
   ]
  },
  {
   "cell_type": "markdown",
   "metadata": {},
   "source": [
    "On récupère le tableau avec min/max/median par adresses"
   ]
  },
  {
   "cell_type": "code",
   "execution_count": 6,
   "metadata": {},
   "outputs": [],
   "source": [
    "df_data_min_max_median = pd.read_excel(\"min-max-median.xlsx\")"
   ]
  },
  {
   "cell_type": "markdown",
   "metadata": {},
   "source": [
    "On indique bien les noms des colonnes dans le data frame"
   ]
  },
  {
   "cell_type": "code",
   "execution_count": 7,
   "metadata": {},
   "outputs": [],
   "source": [
    "df_data_min_max_median.columns = ['min','max','median','Code 1','Code 2','Code 3','Code 4','Code 5','Code 6','Code 7']"
   ]
  },
  {
   "cell_type": "markdown",
   "metadata": {},
   "source": [
    "On récupère le tableau avec les unités par adresses"
   ]
  },
  {
   "cell_type": "code",
   "execution_count": 8,
   "metadata": {},
   "outputs": [],
   "source": [
    "df_data = pd.read_excel(\"unités_avec_noms.xlsx\")"
   ]
  },
  {
   "cell_type": "markdown",
   "metadata": {},
   "source": [
    "On vérifie si les les adresses dans les deux tableaux sont identiques et suivent bien le même ordre"
   ]
  },
  {
   "cell_type": "code",
   "execution_count": 9,
   "metadata": {},
   "outputs": [
    {
     "data": {
      "text/plain": [
       "True"
      ]
     },
     "execution_count": 9,
     "metadata": {},
     "output_type": "execute_result"
    }
   ],
   "source": [
    "df_data_min_max_median.iloc[:,3:10].equals(df_data.iloc[:,0:7])"
   ]
  },
  {
   "cell_type": "code",
   "execution_count": 10,
   "metadata": {},
   "outputs": [],
   "source": [
    "df_data[\"min\"] = df_data_min_max_median[\"min\"]\n",
    "df_data[\"max\"] = df_data_min_max_median[\"max\"]\n",
    "df_data[\"median\"] = df_data_min_max_median[\"median\"]"
   ]
  },
  {
   "cell_type": "markdown",
   "metadata": {},
   "source": [
    "On répertorie tous les noms des DDC par première valeur de l'adresse dans une liste"
   ]
  },
  {
   "cell_type": "code",
   "execution_count": 11,
   "metadata": {},
   "outputs": [],
   "source": [
    "all_floors_names = [[1,'Local CTA'],[2,'Local CTA RIE'],[3,'Lot CVC Terasse B'],[4,'Lot CVC Terasse A'],[5,'Lot CVC Terasse A'],[6,'Local Clim'],[7,'Local CPCU'],[8,'Local GF'],[9,'Lot CVC Terasse B'],[20,'A-S1'],[21,'A-RDC'],[22,'A-1'],[23,'A-2'],[24,'A-3'],[25,'A-4'],[26,'A-5'],[27,'A-6'],[28,'A-7'],[29,'A-Mez'],[30,'A-Meteo'],[31,'B-RDC'],[32,'B-1'],[33,'B-2'],[34,'B-3'],[35,'B-4'],[36,'B-5'],[37,'B-Meteo'],[38,'B-RDC2']]"
   ]
  },
  {
   "cell_type": "markdown",
   "metadata": {
    "scrolled": true
   },
   "source": [
    "On met dans une liste les noms en français de toutes les premières valeurs des adresses dans l'ordre du tableau"
   ]
  },
  {
   "cell_type": "code",
   "execution_count": 12,
   "metadata": {},
   "outputs": [],
   "source": [
    "list_codes_ddc = []\n",
    "\n",
    "for i in range(len(df_data['Code 1'])):\n",
    "    list_codes_ddc.append(search_value_in_list_first_column(all_floors_names,df_data['Code 1'][i]))\n"
   ]
  },
  {
   "cell_type": "markdown",
   "metadata": {},
   "source": [
    "On remplace la première valeur de l'adresse par la liste juste créée "
   ]
  },
  {
   "cell_type": "code",
   "execution_count": 13,
   "metadata": {},
   "outputs": [],
   "source": [
    "df_data['Code 1'] = list_codes_ddc\n"
   ]
  },
  {
   "cell_type": "markdown",
   "metadata": {},
   "source": [
    "On récupère dans la data frame 'df_noms_objets' la liste de tous les objets écrits en français avec leurs sous-objets correspondants"
   ]
  },
  {
   "cell_type": "code",
   "execution_count": 14,
   "metadata": {},
   "outputs": [],
   "source": [
    "df_noms_objets= pd.read_excel(\"noms_objets.xlsx\")"
   ]
  },
  {
   "cell_type": "markdown",
   "metadata": {},
   "source": [
    "On met dans une liste juste les noms des objets"
   ]
  },
  {
   "cell_type": "code",
   "execution_count": 15,
   "metadata": {},
   "outputs": [],
   "source": [
    "list_noms_objets = df_noms_objets['Objet']"
   ]
  },
  {
   "cell_type": "markdown",
   "metadata": {},
   "source": [
    "On met dans une liste juste les noms des sous-objets"
   ]
  },
  {
   "cell_type": "code",
   "execution_count": 16,
   "metadata": {},
   "outputs": [],
   "source": [
    "list_noms_ss_objets = df_noms_objets['Sous-objet']"
   ]
  },
  {
   "cell_type": "markdown",
   "metadata": {},
   "source": [
    "On remplace les noms des objets codés en noms en français dans une liste"
   ]
  },
  {
   "cell_type": "code",
   "execution_count": 17,
   "metadata": {},
   "outputs": [],
   "source": [
    "list_codes_noms = []\n",
    "for i in range(len(df_data['Code 5'])):\n",
    "    list_codes_noms.append( search_name_objects_in_list(list_noms_objets ,df_data['Code 5'][i]))"
   ]
  },
  {
   "cell_type": "markdown",
   "metadata": {},
   "source": [
    "On remplace la colonne par la liste avec les noms en français des objets"
   ]
  },
  {
   "cell_type": "code",
   "execution_count": 18,
   "metadata": {},
   "outputs": [],
   "source": [
    "df_data['Code 5'] = list_codes_noms"
   ]
  },
  {
   "cell_type": "markdown",
   "metadata": {},
   "source": [
    "On remplace les noms des sous-objets codés en noms en français en fonction des objets indiqués en valeur précédente dans l'adresse"
   ]
  },
  {
   "cell_type": "code",
   "execution_count": 19,
   "metadata": {},
   "outputs": [],
   "source": [
    "list_codes_sous_objets = []\n",
    "for i in range(len(df_data['Code 6'])):\n",
    "    length = len(str(df_data['Code 5'][i]))\n",
    "    list_codes_sous_objets.append(search_name_sub_objects_in_list(list_noms_ss_objets ,df_data['Code 6'][i],list_noms_objets,df_data['Code 5'][i]))"
   ]
  },
  {
   "cell_type": "markdown",
   "metadata": {},
   "source": [
    "On remplace la colonne par la liste avec les noms en français des sous-objets"
   ]
  },
  {
   "cell_type": "code",
   "execution_count": 20,
   "metadata": {},
   "outputs": [],
   "source": [
    "df_data['Code 6'] = list_codes_sous_objets"
   ]
  },
  {
   "cell_type": "markdown",
   "metadata": {},
   "source": [
    "On sauvegarde le résultat dans un Excel"
   ]
  },
  {
   "cell_type": "code",
   "execution_count": 21,
   "metadata": {},
   "outputs": [],
   "source": [
    "save_df_in_excel('Unités-points_expliques_tests.xlsx', df_data)\n",
    " "
   ]
  }
 ],
 "metadata": {
  "kernelspec": {
   "display_name": "Python 3",
   "language": "python",
   "name": "python3"
  },
  "language_info": {
   "codemirror_mode": {
    "name": "ipython",
    "version": 3
   },
   "file_extension": ".py",
   "mimetype": "text/x-python",
   "name": "python",
   "nbconvert_exporter": "python",
   "pygments_lexer": "ipython3",
   "version": "3.6.5"
  }
 },
 "nbformat": 4,
 "nbformat_minor": 2
}
