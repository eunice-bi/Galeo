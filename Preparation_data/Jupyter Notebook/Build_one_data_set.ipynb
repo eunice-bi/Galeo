{
 "cells": [
  {
   "cell_type": "code",
   "execution_count": 1,
   "metadata": {},
   "outputs": [],
   "source": [
    "import xlrd\n",
    "import numpy as np\n",
    "from numpy import nan\n",
    "import pandas as pd\n",
    "import pickle\n",
    "#This code is to build one data set from several Excel files with Time Series"
   ]
  },
  {
   "cell_type": "code",
   "execution_count": 2,
   "metadata": {},
   "outputs": [],
   "source": [
    "#Function to remove duplicates from a list \n",
    "def remove_duplicates(values):\n",
    "    output = []\n",
    "    output_index = []\n",
    "    seen = set()\n",
    "    i = 0\n",
    "    for value in values:\n",
    "        # If value has not been encountered yet,\n",
    "        # ... add it to both list and set.\n",
    "        if value not in seen:\n",
    "            output.append(value)\n",
    "            output_index.append(i)\n",
    "            seen.add(value)\n",
    "        i += 1\n",
    "    return output_index\n"
   ]
  },
  {
   "cell_type": "code",
   "execution_count": 3,
   "metadata": {},
   "outputs": [],
   "source": [
    "#Function to remove duplicates from first dataframe to mix with other dataframes  \n",
    "def remove_duplicates_in_df_data_first_position(df):\n",
    "    list_names_columns = df.iloc[1,:]\n",
    "    list_index_names_columns_not_duplicated = remove_duplicates(list_names_columns)\n",
    "    df = df.iloc[:,list_index_names_columns_not_duplicated]\n",
    "    return df"
   ]
  },
  {
   "cell_type": "code",
   "execution_count": 4,
   "metadata": {},
   "outputs": [],
   "source": [
    "#Function to remove duplicates any dataframe except the first in time \n",
    "def remove_duplicates_in_df_data_not_first_position(df):\n",
    "    list_names_columns = df.columns\n",
    "    list_index_names_columns_not_duplicated = remove_duplicates(list_names_columns)\n",
    "    df = df.iloc[:,list_index_names_columns_not_duplicated]\n",
    "    return df"
   ]
  },
  {
   "cell_type": "code",
   "execution_count": 5,
   "metadata": {},
   "outputs": [],
   "source": [
    "#Function to find the first index of an element in a list\n",
    "def get_first_index(liste,condition_value):\n",
    "    list_index = []\n",
    "    for i in range(len(liste)):\n",
    "        if(liste[i] == condition_value):\n",
    "            return i\n",
    "    return list_index"
   ]
  },
  {
   "cell_type": "code",
   "execution_count": 6,
   "metadata": {},
   "outputs": [],
   "source": [
    "#Reading four Time Series Excel files \n",
    "data = pd.read_excel(\"13-06_13-07.xlsx\",header=None)\n",
    "data2 = pd.read_excel(\"13-07_27-09 - V2.xlsx\",header=None)\n",
    "data3 = pd.read_excel(\"28-09_10-10.xlsx\",header=None)\n",
    "data4 = pd.read_excel(\"11-10_08-11.xlsx\",header=None)"
   ]
  },
  {
   "cell_type": "code",
   "execution_count": 7,
   "metadata": {},
   "outputs": [],
   "source": [
    "#At first, we remove the two first lines of 2 data frames\n",
    "data2 = data2.iloc[2:,:]\n",
    "data4 = data4.iloc[2:,:]"
   ]
  },
  {
   "cell_type": "code",
   "execution_count": 8,
   "metadata": {},
   "outputs": [],
   "source": [
    "data_frame1 = pd.concat([data,data2])"
   ]
  },
  {
   "cell_type": "code",
   "execution_count": 9,
   "metadata": {},
   "outputs": [],
   "source": [
    "data_frame1 = remove_duplicates_in_df_data_first_position(data_frame1)"
   ]
  },
  {
   "cell_type": "code",
   "execution_count": 10,
   "metadata": {},
   "outputs": [],
   "source": [
    "data_frame2 = pd.concat([data3,data4])\n",
    "data_frame2 = data_frame2.iloc[1:,:]\n",
    "data_frame2.columns = data_frame2.iloc[0,:]\n",
    "data_frame2 = data_frame2.iloc[1:,:]"
   ]
  },
  {
   "cell_type": "code",
   "execution_count": 11,
   "metadata": {},
   "outputs": [],
   "source": [
    "data_frame2 = remove_duplicates_in_df_data_not_first_position(data_frame2)"
   ]
  },
  {
   "cell_type": "code",
   "execution_count": 12,
   "metadata": {},
   "outputs": [],
   "source": [
    "#We put the names of columns from the second data frame as the first one "
   ]
  },
  {
   "cell_type": "code",
   "execution_count": 13,
   "metadata": {},
   "outputs": [],
   "source": [
    "list_names_data = list(data_frame1.iloc[1,:])\n",
    "list_names_data2= list(data_frame2.columns)"
   ]
  },
  {
   "cell_type": "code",
   "execution_count": 14,
   "metadata": {},
   "outputs": [],
   "source": [
    "list_index_loc_names = []\n",
    "for i in range(len(list_names_data)):\n",
    "    list_index_loc_names.append(data_frame2.columns.get_loc(list_names_data[i]))"
   ]
  },
  {
   "cell_type": "code",
   "execution_count": 15,
   "metadata": {},
   "outputs": [],
   "source": [
    "data_frame2 = data_frame2.iloc[:,list_index_loc_names]\n",
    "data_frame1.columns = data_frame1.iloc[1,:]\n",
    "data_frame1 = data_frame1.iloc[2:,:]"
   ]
  },
  {
   "cell_type": "code",
   "execution_count": 16,
   "metadata": {},
   "outputs": [],
   "source": [
    "data_total = pd.concat([data_frame1,data_frame2],)"
   ]
  },
  {
   "cell_type": "code",
   "execution_count": 17,
   "metadata": {},
   "outputs": [],
   "source": [
    "#We add the names of columns as first row "
   ]
  },
  {
   "cell_type": "code",
   "execution_count": 18,
   "metadata": {},
   "outputs": [],
   "source": [
    "df_names_columns = pd.DataFrame(data_total.columns).transpose()"
   ]
  },
  {
   "cell_type": "code",
   "execution_count": 19,
   "metadata": {},
   "outputs": [],
   "source": [
    "df_names_columns.columns = df_names_columns.iloc[0,:]"
   ]
  },
  {
   "cell_type": "code",
   "execution_count": 20,
   "metadata": {
    "scrolled": false
   },
   "outputs": [],
   "source": [
    "data_total = pd.concat([df_names_columns,data_total])"
   ]
  },
  {
   "cell_type": "code",
   "execution_count": 21,
   "metadata": {},
   "outputs": [],
   "source": [
    "data_total = data_total.reset_index(drop=True)"
   ]
  },
  {
   "cell_type": "code",
   "execution_count": 22,
   "metadata": {},
   "outputs": [],
   "source": [
    "data_total.columns = range(len(data_total.columns))"
   ]
  },
  {
   "cell_type": "code",
   "execution_count": 23,
   "metadata": {},
   "outputs": [],
   "source": [
    "#We save the final dat frame which will be our dataset "
   ]
  },
  {
   "cell_type": "code",
   "execution_count": 24,
   "metadata": {
    "scrolled": false
   },
   "outputs": [],
   "source": [
    "pickle.dump(data_total, open( \"data_total_V1.p\", \"wb\" ) )"
   ]
  }
 ],
 "metadata": {
  "kernelspec": {
   "display_name": "Python 3",
   "language": "python",
   "name": "python3"
  },
  "language_info": {
   "codemirror_mode": {
    "name": "ipython",
    "version": 3
   },
   "file_extension": ".py",
   "mimetype": "text/x-python",
   "name": "python",
   "nbconvert_exporter": "python",
   "pygments_lexer": "ipython3",
   "version": "3.6.5"
  }
 },
 "nbformat": 4,
 "nbformat_minor": 2
}
