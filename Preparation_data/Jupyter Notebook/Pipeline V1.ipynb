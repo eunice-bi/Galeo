{
 "cells": [
  {
   "cell_type": "code",
   "execution_count": 1,
   "metadata": {},
   "outputs": [],
   "source": [
    "import xlrd\n",
    "import numpy as np\n",
    "from numpy import nan\n",
    "import pickle\n",
    "import math\n",
    "import operator\n",
    "import matplotlib.pyplot as plt\n",
    "import plotly.plotly as py\n",
    "import plotly\n",
    "plotly.tools.set_credentials_file(username='eadrien', api_key='KnEjzGXF14YNufp5E9xs')\n",
    "import plotly.graph_objs as go\n",
    "import pandas as pd\n",
    "import calendar\n",
    "import time\n",
    "from pandas.tseries.offsets import BDay\n",
    "\n",
    "# In[3]:\n",
    "\n",
    "\n",
    "pd.set_option('display.float_format', lambda x: '%.2f' % x)\n"
   ]
  },
  {
   "cell_type": "code",
   "execution_count": 2,
   "metadata": {},
   "outputs": [],
   "source": [
    "def date_format(df):\n",
    "    list_date = []\n",
    "    for i in range(1,len(df)):\n",
    "        list_date.append(df.iloc[i,0].combine(df.iloc[i,0],df.iloc[i,1]))\n",
    "    list_date.insert(0,'Date')\n",
    "    return list_date"
   ]
  },
  {
   "cell_type": "code",
   "execution_count": 3,
   "metadata": {},
   "outputs": [],
   "source": [
    "def remove_na(df):\n",
    "    df_nona = pd.DataFrame(df)\n",
    "    df_nona = df_nona.iloc[1:,1:].dropna(axis=1,how=\"all\")\n",
    "    df_nona = df_nona.astype(float)\n",
    "    df_nona  = df_nona.interpolate(method='linear')\n",
    "    df_nona = df_nona.fillna(method='backfill', axis=0)\n",
    "    df_nona = df_nona.fillna(method='ffill', axis=0)\n",
    "    return df_nona"
   ]
  },
  {
   "cell_type": "code",
   "execution_count": 4,
   "metadata": {},
   "outputs": [],
   "source": [
    "def get_new_column_names(df, df2,df_names):\n",
    "    list_noms_colonnes = []\n",
    "    list_noms_colonnes_avant = df_names\n",
    "    for i in range(0,len(df2.columns.values)):\n",
    "        list_noms_colonnes.append(list_noms_colonnes_avant[df2.columns.values[i]])\n",
    "    return list_noms_colonnes"
   ]
  },
  {
   "cell_type": "code",
   "execution_count": 5,
   "metadata": {},
   "outputs": [],
   "source": [
    "def get_list_adresses(list_noms_colonnes,list_adress_units_files):\n",
    "    list_indexes = []\n",
    "    for i in range(len(list_noms_colonnes )):\n",
    "        bool = 0\n",
    "        for j in range(len(list_adress_units_files)):\n",
    "            if(bool == 1):\n",
    "                break\n",
    "            elif(list_noms_colonnes[i] == list_adress_units_files[j]):\n",
    "                list_indexes.append(j)\n",
    "                bool = 1\n",
    "        if(bool == 0):\n",
    "            list_indexes.append(-1)\n",
    "    return list_indexes"
   ]
  },
  {
   "cell_type": "code",
   "execution_count": 6,
   "metadata": {},
   "outputs": [],
   "source": [
    "def get_list_text_or_units(list_indexes,data_unités_text_or_units):\n",
    "    new_list_texte = []\n",
    "    for i in range(len(list_indexes)):\n",
    "        new_list_texte.append(data_unités_text_or_units.iloc[list_indexes[i]])\n",
    "    return new_list_texte "
   ]
  },
  {
   "cell_type": "code",
   "execution_count": 7,
   "metadata": {},
   "outputs": [],
   "source": [
    "def format_df(df,df2,data_unités,df_names):\n",
    "    list_noms_colonnes = get_new_column_names(df,df2,df_names)\n",
    "    list_adress_units_files = data_unités[\"Adresse\"]\n",
    "    list_text_units_files = data_unités[\"Texte\"]\n",
    "    list_units = data_unités[\"Unité\"]\n",
    "    list_indexes = get_list_adresses(list_noms_colonnes,list_adress_units_files)\n",
    "    new_list_texte = get_list_text_or_units(list_indexes,data_unités[\"Texte\"])\n",
    "    new_list_units = get_list_text_or_units(list_indexes,data_unités[\"Unité\"])\n",
    "    df2.loc['Adress'] = list_noms_colonnes\n",
    "    df2.loc[\"Texte\"] = new_list_texte\n",
    "    df2.loc[\"Unité\"] = new_list_units\n",
    "    number_columns_df = len(df2.columns)\n",
    "    df2.columns = range(number_columns_df)\n",
    "    return df2"
   ]
  },
  {
   "cell_type": "code",
   "execution_count": 8,
   "metadata": {},
   "outputs": [],
   "source": [
    "def check_columns_with_unique_values(df):\n",
    "    list_indexes = []\n",
    "    for i in range(len(df.columns)):\n",
    "        #array = df[names_of_columns[i]].unique()\n",
    "        array = pd.unique(df.iloc[:,i].values)\n",
    "        if len(array) == 1 :\n",
    "            list_indexes.append(i)\n",
    "    return list_indexes"
   ]
  },
  {
   "cell_type": "code",
   "execution_count": 9,
   "metadata": {},
   "outputs": [],
   "source": [
    "def preparation_data(df,data_unités):\n",
    "    data = df.copy()\n",
    "    dates_bon_format = date_format(data)\n",
    "    data.iloc[:,0] = dates_bon_format\n",
    "    data.iloc[:,1] = data.iloc[:,0]\n",
    "    data = data.drop(columns=[0])\n",
    "    data_model = data.copy()\n",
    "    data_not_duplicated = remove_na(data)\n",
    "    data_final = format_df(data,data_not_duplicated,data_unités,df.iloc[0,:])\n",
    "    data_final_just_data = data_final.iloc[:-3,:-1]\n",
    "    list_indexes_to_delete = check_columns_with_unique_values(data_final_just_data)\n",
    "    data_final_just_data_no_duplicated = data_final_just_data.copy()\n",
    "    data_final_just_data_no_duplicated.drop(columns = data_final_just_data.columns[list_indexes_to_delete],axis=1,inplace=True)\n",
    "    data_final = format_df(data_final,data_final_just_data_no_duplicated, data_unités,data_final.loc['Adress'])\n",
    "    list_date = data_model.iloc[:,0]\n",
    "    data_final['Date']=list_date\n",
    "    return data_final"
   ]
  },
  {
   "cell_type": "code",
   "execution_count": 10,
   "metadata": {},
   "outputs": [],
   "source": [
    "def save_df_in_excel(filename, df):\n",
    "    writer = pd.ExcelWriter(filename)\n",
    "    df.to_excel(writer,\"Sheet\",index = False) \n",
    "    writer.save()"
   ]
  },
  {
   "cell_type": "code",
   "execution_count": 11,
   "metadata": {},
   "outputs": [],
   "source": [
    "def Date_at_first_column(df_data):\n",
    "    df_copy = df_data.copy()\n",
    "    #list_columns = df_copy.columns.values[:]\n",
    "    list_columns = []\n",
    "    for i in range(len(df_copy.columns.values)):\n",
    "        list_columns.append(df_copy.columns.values[i])\n",
    "    temp = list_columns[0]\n",
    "    list_columns[-1] = temp\n",
    "    list_columns[0] = 'Date'\n",
    "    length = len(list_columns)\n",
    "    list_index_columns = list(range(0,length))\n",
    "    list_index_columns[0] = length-1\n",
    "    list_index_columns[length-1] = 0\n",
    "    df_copy = df_copy.iloc[:,list_index_columns]\n",
    "    return df_copy"
   ]
  },
  {
   "cell_type": "code",
   "execution_count": 12,
   "metadata": {},
   "outputs": [],
   "source": [
    "def truncate(number, digits) -> float:\n",
    "    stepper = pow(10.0, digits)\n",
    "    return math.trunc(stepper * number) / stepper"
   ]
  },
  {
   "cell_type": "code",
   "execution_count": 13,
   "metadata": {},
   "outputs": [],
   "source": [
    "def search_value_in_list_first_column(list,value):\n",
    "    for i in range(len(list)):\n",
    "        if list[i][0] == value:\n",
    "            return list[i][1]\n",
    "    return -1"
   ]
  },
  {
   "cell_type": "code",
   "execution_count": 14,
   "metadata": {},
   "outputs": [],
   "source": [
    "def Excel_for_Power_BI(df,df_model,filename):\n",
    "    list_new_names_columns = []\n",
    "    for i in df_model.columns:\n",
    "        list_new_names_columns.append(str(df_model.loc['Texte',i]) + str(df_model.loc['Adress',i])+' en '+ str(df_model.loc['Unité',i]))\n",
    "    list_new_names_columns[0] = 'Date'\n",
    "    i = df_model.columns[len(df_model.columns)-1]\n",
    "\n",
    "    list_new_names_columns[len(df_model.columns)-1] =  str(df_model.loc['Texte',i]) + str(df_model.loc['Adress',i])+' en '+ str(df_model.loc['Unité',i])\n",
    "    df.columns = list_new_names_columns\n",
    "    save_df_in_excel(filename+'_PowerBi.xlsx',df)\n",
    "    return 'Excel for Power BI generated'"
   ]
  },
  {
   "cell_type": "code",
   "execution_count": 15,
   "metadata": {},
   "outputs": [],
   "source": [
    "def code_to_list(list_adress_decompose,value):\n",
    "    list_codes = []\n",
    "    for i in range(len(list_adress_decompose)):\n",
    "        try:\n",
    "            list_adress_decompose[i][value]\n",
    "            list_codes.append(list_adress_decompose[i][value])\n",
    "        except IndexError:\n",
    "            list_codes.append('')\n",
    "    return list_codes"
   ]
  },
  {
   "cell_type": "code",
   "execution_count": 16,
   "metadata": {},
   "outputs": [],
   "source": [
    "def get_index(liste,condition_value):\n",
    "    list_index = []\n",
    "    for i in range(len(liste)):\n",
    "        if(liste[i] == condition_value):\n",
    "            list_index.append(i)\n",
    "    return list_index"
   ]
  },
  {
   "cell_type": "code",
   "execution_count": 17,
   "metadata": {},
   "outputs": [],
   "source": [
    "def Prepare_columns(df):\n",
    "    #list_code1 = df['Adresse']\n",
    "    #real_names_code1= []\n",
    "    #for i in range(len(list_code1)):\n",
    "    #    real_names_code1.append(search_value_in_list_first_column(all_floors_names,list_code1[i]))\n",
    "    df = df.transpose()\n",
    "    df = df.iloc[:-1,:]\n",
    "    list_adress =  df['Adress']   \n",
    "    list_adress_decompose = []\n",
    "    for i in range(len(list_adress)):\n",
    "        if(pd.isna(list_adress[i])==False):\n",
    "            list_adress_decompose.append(list_adress[i].split('/'))\n",
    "    liste_code0 =code_to_list(list_adress_decompose,0)\n",
    "    liste_code1 =code_to_list(list_adress_decompose,1)\n",
    "    liste_code2 =code_to_list(list_adress_decompose,2)\n",
    "    liste_code3 =code_to_list(list_adress_decompose,3)\n",
    "    liste_code4 =code_to_list(list_adress_decompose,4)\n",
    "    liste_code5 =code_to_list(list_adress_decompose,5)\n",
    "    liste_code6 =code_to_list(list_adress_decompose,6)\n",
    "    liste_code7 =code_to_list(list_adress_decompose,7)\n",
    "    list_index_code1_to_change = get_index(liste_code1,'')\n",
    "    for i in range(len(list_index_code1_to_change)):\n",
    "        liste_code1[list_index_code1_to_change[i]] = liste_code0[list_index_code1_to_change[i]]\n",
    "    list_code0 = []\n",
    "    for i in range(len(liste_code1)):\n",
    "        try:\n",
    "            list_code0.append(search_value_in_list_first_column(all_floors_names,truncate(float(liste_code1[i]),0)))\n",
    "            #break\n",
    "        except ValueError:\n",
    "            list_code0.append(' ')\n",
    "    df['Emplacement'] = list_code0\n",
    "    df['Code 1'] = liste_code1\n",
    "    df['Code 2'] = liste_code2\n",
    "    df['Code 3'] = liste_code3\n",
    "    df['Code 4'] = liste_code4\n",
    "    df['Code 5'] = liste_code5\n",
    "    df['Code 6'] = liste_code6\n",
    "    df['Code 7'] = liste_code7\n",
    "    df['min'] = df.iloc[:,:-11].min(axis=1)\n",
    "    df['median'] = df.iloc[:,:-12].median(axis=1)\n",
    "    df['max'] = df.iloc[:,:-13].max(axis=1)\n",
    "    df = df.iloc[:,-14:]\n",
    "    return df"
   ]
  },
  {
   "cell_type": "code",
   "execution_count": 18,
   "metadata": {},
   "outputs": [],
   "source": [
    "def Excel_to_look(df,filename):\n",
    "    df_power_bi = Prepare_columns(df)\n",
    "    save_df_in_excel(filename+'_to_look.xlsx',df_power_bi)\n",
    "    return 'Excel to look generated'"
   ]
  },
  {
   "cell_type": "code",
   "execution_count": 19,
   "metadata": {},
   "outputs": [],
   "source": [
    "def add_weekdays(df):\n",
    "    list_week_days = []\n",
    "    for i in range(1,len(df['Date'])+1):\n",
    "        list_week_days.append(int(df['Date'][i].weekday())+1)\n",
    "    return list_week_days"
   ]
  },
  {
   "cell_type": "code",
   "execution_count": 20,
   "metadata": {},
   "outputs": [],
   "source": [
    "def add_months(df):\n",
    "    list_months = []\n",
    "    for i in range(1,len(df['Date'])+1):\n",
    "        list_months.append(df['Date'][i].month)\n",
    "    return list_months"
   ]
  },
  {
   "cell_type": "code",
   "execution_count": 21,
   "metadata": {},
   "outputs": [],
   "source": [
    "def get_quarters(list_months):\n",
    "    list_quarters = []\n",
    "    for i in range(0,len(list_months)):\n",
    "        list_quarters.append(round(list_months[i]/3))\n",
    "    return list_quarters"
   ]
  },
  {
   "cell_type": "code",
   "execution_count": 22,
   "metadata": {},
   "outputs": [],
   "source": [
    "def all_dates_to_numbers(df):\n",
    "    \n",
    "    days = add_weekdays(df.iloc[:-3,:])\n",
    "    months = add_months(df.iloc[:-3,:])\n",
    "    quarters = get_quarters(months)\n",
    "\n",
    "    for i in range(3):\n",
    "        days.append(0)\n",
    "        months.append(0)\n",
    "        quarters.append(0)\n",
    "        \n",
    "    df['WEEKDAYS'] = days\n",
    "    df['MONTHS'] = months\n",
    "    df['QUARTERS'] = quarters"
   ]
  },
  {
   "cell_type": "code",
   "execution_count": 23,
   "metadata": {},
   "outputs": [],
   "source": [
    "def set_format_Energie(df):\n",
    "    indexes_energie = get_list_indexes_of_Energies(df.iloc[:,:-4])\n",
    "    df_energie = df.copy()\n",
    "    df_energie = df_energie[indexes_energie]\n",
    "    df_energie = df_energie.iloc[:-2,:]\n",
    "    df=df.drop(columns=indexes_energie)\n",
    "    return df,df_energie"
   ]
  },
  {
   "cell_type": "code",
   "execution_count": 24,
   "metadata": {},
   "outputs": [],
   "source": [
    "def set_format_Energie_total(df_energie):\n",
    "    df_energie_total= df_energie.iloc[:-1,:-1].sum(axis=1)\n",
    "    return df_energie_total"
   ]
  },
  {
   "cell_type": "code",
   "execution_count": 25,
   "metadata": {},
   "outputs": [],
   "source": [
    "def get_list_indexes_of_Energies(df):\n",
    "    list_Energies = []\n",
    "    list_adress = df.loc['Adress']\n",
    "    for i in range(len(df.loc['Adress'])-1):\n",
    "        if(pd.notnull(list_adress[i])==True):\n",
    "            if(list_adress[i][:14] == 'Energie active'):\n",
    "                list_Energies.append(i)\n",
    "    return list_Energies"
   ]
  },
  {
   "cell_type": "code",
   "execution_count": 26,
   "metadata": {},
   "outputs": [],
   "source": [
    "def build_excels(df_data,df_just_data,filename):\n",
    "    Excel_to_look(df_data,filename)\n",
    "    df_just_data_copy = df_just_data.copy()\n",
    "    df_just_data_copy = Date_at_first_column(df_just_data_copy)\n",
    "    df_copy = df_data.copy()\n",
    "    df_copy = Date_at_first_column(df_copy)\n",
    "    Excel_for_Power_BI(df_just_data_copy,df_copy,filename)"
   ]
  },
  {
   "cell_type": "code",
   "execution_count": 27,
   "metadata": {},
   "outputs": [],
   "source": [
    "def launch_preparation(df,data_unités):   \n",
    "    data = preparation_data(df,data_unités)\n",
    "    build_excels(data,data.iloc[:-3,:],\"total\")\n",
    "    all_dates_to_numbers(data)\n",
    "    data,energie = set_format_Energie(data)\n",
    "    energie_totale = set_format_Energie_total(energie)\n",
    "    data[\"Energie\"] = energie_totale\n",
    "    return data,energie"
   ]
  },
  {
   "cell_type": "code",
   "execution_count": 28,
   "metadata": {},
   "outputs": [],
   "source": [
    "all_floors_names = [[1,'Local CTA'],[2,'Local CTA RIE'],[3,'Lot CVC Terasse B'],[4,'Lot CVC Terasse A'],[5,'Lot CVC Terasse A numero 2 '],[6,'Local Clim'],[7,'Local CPCU'],[8,'Local GF'],[9,'Lot CVC Terasse B numero 2'],[21,'A-RDC'],[22,'A-1'],[23,'A-2'],[24,'A-3'],[25,'A-4'],[26,'A-5'],[27,'A-6'],[28,'A-7'],[29,'A-Mez'],[30,'A-Meteo'],[31,'B-RDC'],[32,'B-1'],[33,'B-2'],[34,'B-3'],[35,'B-4'],[36,'B-5'],[37,'B-Meteo'],[38,'B-RDC2']]"
   ]
  },
  {
   "cell_type": "code",
   "execution_count": 29,
   "metadata": {},
   "outputs": [],
   "source": [
    "data_unités = pd.read_excel('Unités_ref.xlsx')"
   ]
  },
  {
   "cell_type": "code",
   "execution_count": 30,
   "metadata": {},
   "outputs": [],
   "source": [
    "df = pickle.load(open(\"data_total_V2.p\", \"rb\") )"
   ]
  },
  {
   "cell_type": "code",
   "execution_count": 31,
   "metadata": {},
   "outputs": [],
   "source": [
    "data,df_energie = launch_preparation(df,data_unités)   "
   ]
  },
  {
   "cell_type": "code",
   "execution_count": 32,
   "metadata": {},
   "outputs": [],
   "source": [
    "pickle.dump(data, open( \"data_total_prepared.p\", \"wb\" ) )"
   ]
  },
  {
   "cell_type": "code",
   "execution_count": 33,
   "metadata": {},
   "outputs": [],
   "source": [
    "pickle.dump(df_energie, open( \"data_energie.p\", \"wb\" ) )"
   ]
  }
 ],
 "metadata": {
  "kernelspec": {
   "display_name": "Python 3",
   "language": "python",
   "name": "python3"
  },
  "language_info": {
   "codemirror_mode": {
    "name": "ipython",
    "version": 3
   },
   "file_extension": ".py",
   "mimetype": "text/x-python",
   "name": "python",
   "nbconvert_exporter": "python",
   "pygments_lexer": "ipython3",
   "version": "3.6.5"
  }
 },
 "nbformat": 4,
 "nbformat_minor": 2
}
