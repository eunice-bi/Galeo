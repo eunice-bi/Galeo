{
 "cells": [
  {
   "cell_type": "code",
   "execution_count": 1,
   "metadata": {},
   "outputs": [],
   "source": [
    "import pandas as pd\n",
    "import pickle\n",
    "import sklearn\n",
    "import numpy as np\n",
    "from sklearn import preprocessing\n",
    "from sklearn.decomposition import PCA\n",
    "from scipy import stats\n",
    "import matplotlib.pyplot as plt\n",
    "import warnings\n",
    "import copy\n",
    "warnings.filterwarnings('ignore')"
   ]
  },
  {
   "cell_type": "code",
   "execution_count": 2,
   "metadata": {},
   "outputs": [],
   "source": [
    "def get_list_indexes_of_Energies(df):\n",
    "    list_Energies = []\n",
    "    list_adress = df.loc['Adress']\n",
    "    for i in range(len(df.loc['Adress'])-1):\n",
    "        if(pd.notnull(list_adress[i])==True):\n",
    "            if(list_adress[i][:7] == 'Energie'):\n",
    "                list_Energies.append(i)\n",
    "    return list_Energies"
   ]
  },
  {
   "cell_type": "code",
   "execution_count": 3,
   "metadata": {},
   "outputs": [],
   "source": [
    "def remove_Energie(df):\n",
    "    indexes_energie = get_list_indexes_of_Energies(df.iloc[:,:-4])\n",
    "    df=df.drop(columns=indexes_energie)\n",
    "    return df"
   ]
  },
  {
   "cell_type": "code",
   "execution_count": 4,
   "metadata": {},
   "outputs": [],
   "source": [
    "def save_df_in_excel(filename, df):\n",
    "    writer = pd.ExcelWriter(filename)\n",
    "    df.to_excel(writer,\"Sheet\",index = True) \n",
    "    writer.save()"
   ]
  },
  {
   "cell_type": "code",
   "execution_count": 5,
   "metadata": {},
   "outputs": [],
   "source": [
    "def get_correlation_target(df,index_column,target):\n",
    "    return stats.pearsonr(df.iloc[:,index_column],target)[0]"
   ]
  },
  {
   "cell_type": "code",
   "execution_count": 6,
   "metadata": {},
   "outputs": [],
   "source": [
    "df = pickle.load(open(\"data_total_prepared.p\", \"rb\") )"
   ]
  },
  {
   "cell_type": "code",
   "execution_count": 7,
   "metadata": {},
   "outputs": [],
   "source": [
    "df = df.drop(columns='Date')"
   ]
  },
  {
   "cell_type": "code",
   "execution_count": 8,
   "metadata": {},
   "outputs": [],
   "source": [
    "df.columns = range(len(df.columns))"
   ]
  },
  {
   "cell_type": "markdown",
   "metadata": {},
   "source": [
    "list_columns = df.iloc[-3,:]\n",
    "list_columns['WEEKDAYS'] = 'WEEKDAYS'\n",
    "list_columns['MONTHS'] = 'MONTHS'\n",
    "list_columns['QUARTERS'] = 'QUARTERS'\n",
    "list_columns['Energie'] =  'Energie totale'\n",
    "list_columns.index = range(len(list_columns))\n",
    "list_text = df.iloc[-2,:]\n",
    "list_text['WEEKDAYS'] = 'WEEKDAYS'\n",
    "list_text['MONTHS'] = 'MONTHS'\n",
    "list_text['QUARTERS'] = 'QUARTERS'\n",
    "list_text['Energie'] =  'Energie totale'\n",
    "list_text.index = list_columns"
   ]
  },
  {
   "cell_type": "code",
   "execution_count": 9,
   "metadata": {},
   "outputs": [],
   "source": [
    "df = remove_Energie(df)"
   ]
  },
  {
   "cell_type": "code",
   "execution_count": 10,
   "metadata": {},
   "outputs": [],
   "source": [
    "list_columns = df.iloc[-3,:]"
   ]
  },
  {
   "cell_type": "code",
   "execution_count": 11,
   "metadata": {},
   "outputs": [],
   "source": [
    "list_columns.index = range(len(list_columns))"
   ]
  },
  {
   "cell_type": "code",
   "execution_count": 12,
   "metadata": {},
   "outputs": [],
   "source": [
    "size = len(list_columns)"
   ]
  },
  {
   "cell_type": "code",
   "execution_count": 13,
   "metadata": {},
   "outputs": [],
   "source": [
    "list_columns.update(pd.Series(['WEEKDAYS', 'MONTHS','QUARTERS','Energie'], index=[size-4, size-3,size-2,size-1]))"
   ]
  },
  {
   "cell_type": "code",
   "execution_count": 14,
   "metadata": {},
   "outputs": [
    {
     "data": {
      "text/plain": [
       "0                               /01/000/01/04/L.08/3\n",
       "1                         /02/000/04/01/S328.03/5700\n",
       "2                               /34/000/06/03/M.09/6\n",
       "3                           /31/002/00/00/P.14/CDI/k\n",
       "4                           /03/000/05/01/S325.02/33\n",
       "5                               /01/000/02/04/L.03/2\n",
       "6                               /03/000/03/03/L.05/3\n",
       "7                         /26/000/04/01/S083.01/2152\n",
       "8                  Courant phase 3 TGBT Bat B Jdb GE\n",
       "9                 Courant phase 1 TGBT Bat A Jdb N/R\n",
       "10                        /30/000/01/02/S066.09/4839\n",
       "11                        /05/000/02/06/S337.01/5100\n",
       "12                        /03/000/09/01/S238.01/5102\n",
       "13                          /04/000/02/01/H601.01/18\n",
       "14                              /01/000/01/04/L.06/2\n",
       "15                          /27/002/00/00/P.10/CDI/k\n",
       "16                      /01/000/02/05/S238.01/5271.1\n",
       "17                           /03/000/01/07/H614.01/6\n",
       "18                          /31/119/00/03/P.55/CDI/k\n",
       "19                        /37/000/01/02/S083.04/2147\n",
       "20                        /31/000/11/01/S327.03/5690\n",
       "21                        /31/000/15/01/S118.01/C.01\n",
       "22                        /03/000/07/01/S238.01/5101\n",
       "23                              /01/000/01/04/L.07/3\n",
       "24                        /02/000/07/01/S118.01/C.01\n",
       "25               /07/000/01/01/S118.01/C.01/actValue\n",
       "26                              /04/000/01/04/L.09/3\n",
       "27                        /04/000/02/06/S337.01/5100\n",
       "28                          /37/002/00/00/P.04/CDI/k\n",
       "29                          /02/101/00/00/P.14/CDI/k\n",
       "                            ...                     \n",
       "1081                        /07/000/02/01/H905.01/31\n",
       "1082                        /03/000/06/01/S325.02/32\n",
       "1083                            /02/000/06/03/L.02/2\n",
       "1084                      /07/000/13/01/S327.10/5690\n",
       "1085             /01/000/01/01/S118.01/C.01/actValue\n",
       "1086                            /07/000/05/01/M.02/6\n",
       "1087                        /31/135/00/03/P.08/CDI/k\n",
       "1088                        /34/101/00/03/P.02/CAI/b\n",
       "1089                            /07/000/02/01/M.02/6\n",
       "1090                      /23/000/05/01/S118.01/C.01\n",
       "1091                            /04/000/02/04/L.10/3\n",
       "1092                            /07/000/01/04/L.03/3\n",
       "1093         Courant phase 3 TGBT Sgx N/R Jdb Normal\n",
       "1094                            /27/000/01/03/M.01/6\n",
       "1095                        /34/002/00/00/P.15/CDI/k\n",
       "1096                  /25/001/06/01/H010.02/CLI105/b\n",
       "1097    Tension composee U12 TGBT Sgx N/R Jdb Normal\n",
       "1098                      /01/000/02/05/S083.01/2152\n",
       "1099                      /07/000/11/01/S328.04/5700\n",
       "1100                        /36/002/00/00/P.12/CDI/k\n",
       "1101                            /07/000/09/03/L.04/3\n",
       "1102                            /05/000/02/04/L.06/3\n",
       "1103                      /06/000/02/05/S238.01/5102\n",
       "1104                        /25/002/00/00/P.20/CDI/k\n",
       "1105                      /25/000/01/03/S118.01/C.01\n",
       "1106                      /07/000/11/01/S328.03/5700\n",
       "1107                                        WEEKDAYS\n",
       "1108                                          MONTHS\n",
       "1109                                        QUARTERS\n",
       "1110                                         Energie\n",
       "Name: Adress, Length: 1111, dtype: object"
      ]
     },
     "execution_count": 14,
     "metadata": {},
     "output_type": "execute_result"
    }
   ],
   "source": [
    "list_columns"
   ]
  },
  {
   "cell_type": "code",
   "execution_count": 15,
   "metadata": {},
   "outputs": [],
   "source": [
    "list_text = df.iloc[-2,:]"
   ]
  },
  {
   "cell_type": "code",
   "execution_count": 16,
   "metadata": {},
   "outputs": [],
   "source": [
    "list_text.index = range(len(list_text))"
   ]
  },
  {
   "cell_type": "code",
   "execution_count": 17,
   "metadata": {},
   "outputs": [
    {
     "data": {
      "text/plain": [
       "0                          CTA A1 LED CTA A1 Défaut fumée\n",
       "1       CTA C1.2/VEX C1.2 Automatisme CTA C1.2/VEX C1....\n",
       "2       Horaire / Consigne Preneur 1 Syntheses Occupat...\n",
       "3             TD-SG-00B2TDSG00B2 Etat eclairage exterieur\n",
       "4       BDD SDR1 Régulation Temp SDR1 T° Ambiante Moye...\n",
       "5       CTA B1 Hall Bât A LED CTA B1 Hall Bât A Marche...\n",
       "6                  VEX A4.2 LED VEX A4.2 debit extraction\n",
       "7                          XS T° Soufflage distante Bat A\n",
       "8                                                        \n",
       "9                                                        \n",
       "10                  TD-SG-TEA Station Meteo Anemomètrie 4\n",
       "11      CTA A3.3 Régulation pression CTA A3.3 Consigne...\n",
       "12          BDD Club Régulation Temp BDD Club T° Ambiante\n",
       "13                                   CTA A2.3 Influence Z\n",
       "14          CTA A1 LED CTA A1 Marche Recuperateur rotatif\n",
       "15                                                       \n",
       "16                        CTA B1 Limite basse T°Soufflage\n",
       "17      CTA A4/VEX A4 Régulation pression CTA A4/VEX A...\n",
       "18                  TGBT-SGXTDPK1 Presence-Ecl-Prk 2/3 S1\n",
       "19              TD-SG-TEB Station Meteo Pyranometre Ouest\n",
       "20              PLOMBERIE Compteurs Cumul CPT EF Activité\n",
       "21                                                       \n",
       "22      BDD Salle conseil N/E Régulation Temp BDD Sall...\n",
       "23                       CTA A1 LED CTA A1 Défaut Antigel\n",
       "24                                                       \n",
       "25                                                       \n",
       "26      CTA A2.1/A2.2 LED CTA A2.1/A2.2 Défaut Ventila...\n",
       "27      CTA A2.3 Régulation pression CTA A2.3 Consigne...\n",
       "28               TD-SG-TEBTDSGTEB Etat eclairage balisage\n",
       "29             CTA C1.2/VEX C1.2 Marche Registre air neuf\n",
       "                              ...                        \n",
       "1081    Circuits CTA,Plancher rayonnants hall Bât B Au...\n",
       "1082                                Température Amb SDR 2\n",
       "1083             VEXD C2 LED VEXD C2 Marche Extracteur GV\n",
       "1084                                Comptage énergie RC08\n",
       "1085                                                     \n",
       "1086    Circuits radiateurs Bât B Automatisme ppes REC...\n",
       "1087            PPRI alarme 2ème seuil niveau haut 27,36m\n",
       "1088            BATIMENT BR+3 CTA A3.1/A3.2 . T° Ambiante\n",
       "1089    Circuits CTA,Plancher rayonnants hall Bât B Au...\n",
       "1090                                                     \n",
       "1091                  CTA A2.3 LED CTA A2.3 débit reprise\n",
       "1092    Circuits CTA,Plancher rayonnants hall Bât A LE...\n",
       "1093                                                     \n",
       "1094    TD-SG-06A Stores Escalier Sanit A1 VentFort4 B...\n",
       "1095       BATIMENT BTDP03B1 Inter general position ferme\n",
       "1096    Temperatures reprise Temperatures de reprise n...\n",
       "1097                                                     \n",
       "1098    CTA B1 Hall Bât A Régulation Temp CTA B1 Hall ...\n",
       "1099    VEXI5.1/I5.2 Automatisme VEXI5.1/I5.2 Temps ma...\n",
       "1100              BATIMENT BTD-SG-05B2 Etat eclairage 2/3\n",
       "1101    Circuit production ECS LED ppes REC.3 Défaut p...\n",
       "1102     CTA A3.3 LED CTA A3.3 Défaut Variateur Soufflage\n",
       "1103    CTA H1/VEX H1 Régulation Temp CTA H1/VEX H1 T°...\n",
       "1104          BATIMENT ATDP04A Etat eclairage circulation\n",
       "1105                                                     \n",
       "1106    VEXI5.1/I5.2 Automatisme VEXI5.1/I5.2 Temps ma...\n",
       "1107                                                    0\n",
       "1108                                                    0\n",
       "1109                                                    0\n",
       "1110                                                  NaN\n",
       "Name: Texte, Length: 1111, dtype: object"
      ]
     },
     "execution_count": 17,
     "metadata": {},
     "output_type": "execute_result"
    }
   ],
   "source": [
    "list_text"
   ]
  },
  {
   "cell_type": "code",
   "execution_count": 18,
   "metadata": {},
   "outputs": [],
   "source": [
    "for i, text in enumerate(list_text):\n",
    "    if text == 0 or text == ' ' or pd.isna(text)==True :\n",
    "        list_text[i] = list_columns[i]"
   ]
  },
  {
   "cell_type": "code",
   "execution_count": 19,
   "metadata": {},
   "outputs": [],
   "source": [
    "list_text.index = list_columns "
   ]
  },
  {
   "cell_type": "code",
   "execution_count": 20,
   "metadata": {},
   "outputs": [],
   "source": [
    "df.columns = range(len(df.columns))"
   ]
  },
  {
   "cell_type": "code",
   "execution_count": 21,
   "metadata": {},
   "outputs": [],
   "source": [
    "df = df.iloc[:-3,:]"
   ]
  },
  {
   "cell_type": "code",
   "execution_count": 22,
   "metadata": {},
   "outputs": [],
   "source": [
    "df_energie = df.iloc[:,-1]"
   ]
  },
  {
   "cell_type": "code",
   "execution_count": 23,
   "metadata": {},
   "outputs": [],
   "source": [
    "df_energie_kw = df_energie/0.25"
   ]
  },
  {
   "cell_type": "code",
   "execution_count": 24,
   "metadata": {},
   "outputs": [],
   "source": [
    "df.iloc[:,-1] = df_energie_kw"
   ]
  },
  {
   "cell_type": "code",
   "execution_count": 25,
   "metadata": {},
   "outputs": [],
   "source": [
    "pickle.dump(df, open( \"data_total_prepared_brut.p\", \"wb\" ) )"
   ]
  },
  {
   "cell_type": "code",
   "execution_count": 26,
   "metadata": {},
   "outputs": [],
   "source": [
    "df_norm = (df.iloc[:,:-1] - df.iloc[:,:-1].mean()) / (df.iloc[:,:-1].max() - df.iloc[:,:-1].min())"
   ]
  },
  {
   "cell_type": "code",
   "execution_count": 27,
   "metadata": {},
   "outputs": [],
   "source": [
    "df_norm.Energie = df.iloc[:,-1]"
   ]
  },
  {
   "cell_type": "code",
   "execution_count": 28,
   "metadata": {},
   "outputs": [],
   "source": [
    "pickle.dump(df_norm , open( \"data_norm.p\", \"wb\" ) )"
   ]
  },
  {
   "cell_type": "code",
   "execution_count": 29,
   "metadata": {},
   "outputs": [],
   "source": [
    "list_correlations = []\n",
    "for i in range(len(df_norm.columns)):\n",
    "    list_correlations.append(get_correlation_target(df_norm,i,df_norm.Energie))"
   ]
  },
  {
   "cell_type": "code",
   "execution_count": 30,
   "metadata": {},
   "outputs": [],
   "source": [
    "df_correlations = pd.DataFrame([list_correlations],columns=list_columns[:-1]).transpose()\n",
    "df_correlations.columns = ['Corrélation avec Energie totale']\n",
    "df_correlations[\"Texte\"] = list_text[:-1]"
   ]
  },
  {
   "cell_type": "code",
   "execution_count": 31,
   "metadata": {},
   "outputs": [],
   "source": [
    "df_correlations_08 = df_correlations[abs(df_correlations['Corrélation avec Energie totale'])>0.8]"
   ]
  },
  {
   "cell_type": "code",
   "execution_count": 32,
   "metadata": {},
   "outputs": [],
   "source": [
    "pickle.dump(df_correlations_08, open( \"data_corr_08.p\", \"wb\" ) )"
   ]
  },
  {
   "cell_type": "code",
   "execution_count": 33,
   "metadata": {},
   "outputs": [],
   "source": [
    "list_columns = list(list_columns)"
   ]
  },
  {
   "cell_type": "code",
   "execution_count": 34,
   "metadata": {},
   "outputs": [],
   "source": [
    "list_correlations_08 = list(df_correlations_08.index.values)"
   ]
  },
  {
   "cell_type": "code",
   "execution_count": 35,
   "metadata": {},
   "outputs": [],
   "source": [
    "list_index = []\n",
    "for val in list_correlations_08:\n",
    "    if val in list_columns:\n",
    "        list_index.append(list_columns.index(val))"
   ]
  },
  {
   "cell_type": "code",
   "execution_count": 39,
   "metadata": {},
   "outputs": [],
   "source": [
    "pickle.dump(list_index, open( \"list_index.p\", \"wb\" ) )"
   ]
  }
 ],
 "metadata": {
  "kernelspec": {
   "display_name": "Python 3",
   "language": "python",
   "name": "python3"
  },
  "language_info": {
   "codemirror_mode": {
    "name": "ipython",
    "version": 3
   },
   "file_extension": ".py",
   "mimetype": "text/x-python",
   "name": "python",
   "nbconvert_exporter": "python",
   "pygments_lexer": "ipython3",
   "version": "3.6.5"
  }
 },
 "nbformat": 4,
 "nbformat_minor": 2
}
