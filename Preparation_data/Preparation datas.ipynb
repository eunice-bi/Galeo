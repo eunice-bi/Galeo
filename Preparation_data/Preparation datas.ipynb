{
 "cells": [
  {
   "cell_type": "code",
   "execution_count": 1,
   "metadata": {},
   "outputs": [],
   "source": [
    "import xlrd\n",
    "import pandas\n",
    "import numpy as np\n",
    "from numpy import nan\n",
    "import operator\n",
    "import matplotlib.pyplot as plt"
   ]
  },
  {
   "cell_type": "code",
   "execution_count": 2,
   "metadata": {},
   "outputs": [],
   "source": [
    "def no_na_preparation(df):\n",
    "    #remove empty rows\n",
    "    df_nona = df.dropna(axis=0,how=\"all\")\n",
    "    #fulfill empty values by copying the previous full value in the column\n",
    "    df_nona2 = df_nona.fillna( method='backfill', axis=0)\n",
    "    #fuflill empty values by copying the next full value in the column\n",
    "    df_nona2 = df_nona2.fillna( method='ffill', axis=0)\n",
    "    return df_nona2"
   ]
  },
  {
   "cell_type": "code",
   "execution_count": 3,
   "metadata": {},
   "outputs": [],
   "source": [
    "def test_result_table_nona(df_to_test):\n",
    "    df_test = df_to_test.dropna(axis=0)\n",
    "    if(df_to_test.shape!=df_test.shape):\n",
    "        return False\n",
    "    else :\n",
    "        return True"
   ]
  },
  {
   "cell_type": "code",
   "execution_count": 5,
   "metadata": {},
   "outputs": [],
   "source": [
    "def save_df_in_excel(filename, df):\n",
    "    writer = pandas.ExcelWriter(filename)\n",
    "    df.to_excel(writer,\"Sheet\") \n",
    "    writer.save()"
   ]
  },
  {
   "cell_type": "code",
   "execution_count": 16,
   "metadata": {},
   "outputs": [],
   "source": [
    "def launch_preparation(df,filename):\n",
    "    df_nona = no_na_preparation(df)\n",
    "    if(test_result_table_nona(df_nona) == True):\n",
    "        save_df_in_excel(filename, df_nona)\n",
    "        print(\"New Excel saved in \"+filename)\n",
    "    else :\n",
    "        print(\"Data Preparation failed\")"
   ]
  },
  {
   "cell_type": "code",
   "execution_count": 7,
   "metadata": {},
   "outputs": [],
   "source": [
    "df = pandas.read_excel(\"data2.xlsx\")"
   ]
  },
  {
   "cell_type": "code",
   "execution_count": 18,
   "metadata": {},
   "outputs": [
    {
     "name": "stdout",
     "output_type": "stream",
     "text": [
      "New Excel saved in test_data.xlsx\n"
     ]
    }
   ],
   "source": [
    "launch_preparation(df,\"test_data.xlsx\")"
   ]
  }
 ],
 "metadata": {
  "kernelspec": {
   "display_name": "Python 3",
   "language": "python",
   "name": "python3"
  },
  "language_info": {
   "codemirror_mode": {
    "name": "ipython",
    "version": 3
   },
   "file_extension": ".py",
   "mimetype": "text/x-python",
   "name": "python",
   "nbconvert_exporter": "python",
   "pygments_lexer": "ipython3",
   "version": "3.6.5"
  }
 },
 "nbformat": 4,
 "nbformat_minor": 2
}
